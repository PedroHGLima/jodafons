{
 "cells": [
  {
   "cell_type": "code",
   "execution_count": 1,
   "id": "15975724-5977-4bf9-8e2f-14d19fd2078b",
   "metadata": {},
   "outputs": [
    {
     "name": "stdout",
     "output_type": "stream",
     "text": [
      "Welcome to JupyROOT 6.16/00\n",
      "Using all sub packages with ROOT dependence\n",
      "\n",
      "Applying ATLAS style settings...\n"
     ]
    }
   ],
   "source": [
    "from core import Efficiency\n",
    "import pandas as pd\n",
    "import numpy as np\n",
    "import rootplotlib as rpl\n",
    "from pprint import pprint\n",
    "\n",
    "rpl.set_atlas_style()\n",
    "rpl.suppress_root_warnings()\n",
    "%config InlineBackend.figure_format = 'retina'\n",
    "%load_ext autoreload\n",
    "%autoreload 2"
   ]
  },
  {
   "cell_type": "code",
   "execution_count": 2,
   "id": "474ce381-2fe4-40f3-b4cd-71722f0f0cb1",
   "metadata": {},
   "outputs": [],
   "source": [
    "table = pd.read_hdf('data.h5')"
   ]
  },
  {
   "cell_type": "code",
   "execution_count": 3,
   "id": "d86bea8f-d30a-47cc-adc7-4c066d2c3588",
   "metadata": {},
   "outputs": [
    {
     "name": "stdout",
     "output_type": "stream",
     "text": [
      "array(['avgmu', 'trig_L2_cl_et', 'trig_L2_cl_eta', 'trig_L2_cl_phi',\n",
      "       'trig_L2_cl_reta', 'trig_L2_cl_ehad1', 'trig_L2_cl_eratio',\n",
      "       'trig_L2_cl_f1', 'trig_L2_cl_f3', 'trig_L2_cl_weta2',\n",
      "       'trig_L2_cl_wstot', 'trig_EF_cl_et', 'trig_EF_el_et',\n",
      "       'trig_EF_el_lhtight', 'trig_EF_el_lhmedium', 'trig_EF_el_lhloose',\n",
      "       'trig_EF_el_lhvloose', 'el_et', 'el_eta', 'el_phi', 'el_rhad1',\n",
      "       'el_rhad', 'el_f3', 'el_weta2', 'el_rphi', 'el_reta', 'el_wtots1',\n",
      "       'el_eratio', 'el_f1', 'el_hastrack', 'el_d0', 'el_d0significance',\n",
      "       'el_eProbabilityHT', 'el_deltaEta1', 'el_deltaPhi2Rescaled',\n",
      "       'el_deltaPOverP', 'el_lhtight', 'el_lhmedium', 'el_lhloose',\n",
      "       'el_lhvloose', 'trig_EF_el_lhtight_ivarloose', 'el_TaP_deltaR',\n",
      "       'L1_EM3', 'L1_EM7', 'L1_EM15VH', 'L1_EM15VHI', 'L1_EM20VH',\n",
      "       'L1_EM20VHI', 'L1_EM22VH', 'L1_EM22VHI', 'L1_EM24VHI',\n",
      "       'trig_L2_cl_lhvloose_et0to12', 'trig_L2_cl_lhvloose_et12to20',\n",
      "       'trig_L2_cl_lhvloose_et22toInf', 'trig_L2_cl_lhloose_et0to12',\n",
      "       'trig_L2_cl_lhloose_et12to20', 'trig_L2_cl_lhloose_et22toInf',\n",
      "       'trig_L2_cl_lhmedium_et0to12', 'trig_L2_cl_lhmedium_et12to20',\n",
      "       'trig_L2_cl_lhmedium_et22toInf', 'trig_L2_cl_lhtight_et0to12',\n",
      "       'trig_L2_cl_lhtight_et12to20', 'trig_L2_cl_lhtight_et22toInf',\n",
      "       'trig_L2_el_cut_pt0to15', 'trig_L2_el_cut_pt15to20',\n",
      "       'trig_L2_el_cut_pt20to50', 'trig_L2_el_cut_pt50toInf',\n",
      "       'TDT__L1Calo__e28_lhtight_nod0_ivarloose',\n",
      "       'TDT__L2Calo__e28_lhtight_nod0_ivarloose',\n",
      "       'TDT__L2__e28_lhtight_nod0_ivarloose',\n",
      "       'TDT__EFCalo__e28_lhtight_nod0_ivarloose',\n",
      "       'TDT__HLT__e28_lhtight_nod0_ivarloose',\n",
      "       'TDT__L1Calo__e28_lhtight_nod0_noringer_ivarloose',\n",
      "       'TDT__L2Calo__e28_lhtight_nod0_noringer_ivarloose',\n",
      "       'TDT__L2__e28_lhtight_nod0_noringer_ivarloose',\n",
      "       'TDT__EFCalo__e28_lhtight_nod0_noringer_ivarloose',\n",
      "       'TDT__HLT__e28_lhtight_nod0_noringer_ivarloose', 'target',\n",
      "       'ringer_v8_tight_output', 'ringer_v8_tight',\n",
      "       'ringer_v8_medium_output', 'ringer_v8_medium',\n",
      "       'ringer_v8_loose_output', 'ringer_v8_loose',\n",
      "       'ringer_v8_vloose_output', 'ringer_v8_vloose',\n",
      "       'ringer_v9_tight_output', 'ringer_v9_tight',\n",
      "       'ringer_v9_medium_output', 'ringer_v9_medium',\n",
      "       'ringer_v9_loose_output', 'ringer_v9_loose',\n",
      "       'ringer_v9_vloose_output', 'ringer_v9_vloose',\n",
      "       'L1Calo_e17_lhvloose_nod0_noringer_L1EM15VHI',\n",
      "       'L2Calo_e17_lhvloose_nod0_noringer_L1EM15VHI',\n",
      "       'L2_e17_lhvloose_nod0_noringer_L1EM15VHI',\n",
      "       'EFCalo_e17_lhvloose_nod0_noringer_L1EM15VHI',\n",
      "       'HLT_e17_lhvloose_nod0_noringer_L1EM15VHI',\n",
      "       'L1Calo_e17_lhvloose_nod0_ringer_v8_L1EM15VHI',\n",
      "       'L2Calo_e17_lhvloose_nod0_ringer_v8_L1EM15VHI',\n",
      "       'L2_e17_lhvloose_nod0_ringer_v8_L1EM15VHI',\n",
      "       'EFCalo_e17_lhvloose_nod0_ringer_v8_L1EM15VHI',\n",
      "       'HLT_e17_lhvloose_nod0_ringer_v8_L1EM15VHI',\n",
      "       'L1Calo_e17_lhvloose_nod0_ringer_v9_L1EM15VHI',\n",
      "       'L2Calo_e17_lhvloose_nod0_ringer_v9_L1EM15VHI',\n",
      "       'L2_e17_lhvloose_nod0_ringer_v9_L1EM15VHI',\n",
      "       'EFCalo_e17_lhvloose_nod0_ringer_v9_L1EM15VHI',\n",
      "       'HLT_e17_lhvloose_nod0_ringer_v9_L1EM15VHI',\n",
      "       'L1Calo_e28_lhtight_nod0_noringer_ivarloose',\n",
      "       'L2Calo_e28_lhtight_nod0_noringer_ivarloose',\n",
      "       'L2_e28_lhtight_nod0_noringer_ivarloose',\n",
      "       'EFCalo_e28_lhtight_nod0_noringer_ivarloose',\n",
      "       'HLT_e28_lhtight_nod0_noringer_ivarloose',\n",
      "       'L1Calo_e28_lhtight_nod0_ringer_v8_ivarloose',\n",
      "       'L2Calo_e28_lhtight_nod0_ringer_v8_ivarloose',\n",
      "       'L2_e28_lhtight_nod0_ringer_v8_ivarloose',\n",
      "       'EFCalo_e28_lhtight_nod0_ringer_v8_ivarloose',\n",
      "       'HLT_e28_lhtight_nod0_ringer_v8_ivarloose',\n",
      "       'L1Calo_e28_lhtight_nod0_ringer_v9_ivarloose',\n",
      "       'L2Calo_e28_lhtight_nod0_ringer_v9_ivarloose',\n",
      "       'L2_e28_lhtight_nod0_ringer_v9_ivarloose',\n",
      "       'EFCalo_e28_lhtight_nod0_ringer_v9_ivarloose',\n",
      "       'HLT_e28_lhtight_nod0_ringer_v9_ivarloose',\n",
      "       'L1Calo_e60_lhmedium_nod0_noringer_L1EM24VHI',\n",
      "       'L2Calo_e60_lhmedium_nod0_noringer_L1EM24VHI',\n",
      "       'L2_e60_lhmedium_nod0_noringer_L1EM24VHI',\n",
      "       'EFCalo_e60_lhmedium_nod0_noringer_L1EM24VHI',\n",
      "       'HLT_e60_lhmedium_nod0_noringer_L1EM24VHI',\n",
      "       'L1Calo_e60_lhmedium_nod0_ringer_v8_L1EM24VHI',\n",
      "       'L2Calo_e60_lhmedium_nod0_ringer_v8_L1EM24VHI',\n",
      "       'L2_e60_lhmedium_nod0_ringer_v8_L1EM24VHI',\n",
      "       'EFCalo_e60_lhmedium_nod0_ringer_v8_L1EM24VHI',\n",
      "       'HLT_e60_lhmedium_nod0_ringer_v8_L1EM24VHI',\n",
      "       'L1Calo_e60_lhmedium_nod0_ringer_v9_L1EM24VHI',\n",
      "       'L2Calo_e60_lhmedium_nod0_ringer_v9_L1EM24VHI',\n",
      "       'L2_e60_lhmedium_nod0_ringer_v9_L1EM24VHI',\n",
      "       'EFCalo_e60_lhmedium_nod0_ringer_v9_L1EM24VHI',\n",
      "       'HLT_e60_lhmedium_nod0_ringer_v9_L1EM24VHI',\n",
      "       'L1Calo_e140_lhloose_nod0_noringer',\n",
      "       'L2Calo_e140_lhloose_nod0_noringer',\n",
      "       'L2_e140_lhloose_nod0_noringer',\n",
      "       'EFCalo_e140_lhloose_nod0_noringer',\n",
      "       'HLT_e140_lhloose_nod0_noringer',\n",
      "       'L1Calo_e140_lhloose_nod0_ringer_v8',\n",
      "       'L2Calo_e140_lhloose_nod0_ringer_v8',\n",
      "       'L2_e140_lhloose_nod0_ringer_v8',\n",
      "       'EFCalo_e140_lhloose_nod0_ringer_v8',\n",
      "       'HLT_e140_lhloose_nod0_ringer_v8',\n",
      "       'L1Calo_e140_lhloose_nod0_ringer_v9',\n",
      "       'L2Calo_e140_lhloose_nod0_ringer_v9',\n",
      "       'L2_e140_lhloose_nod0_ringer_v9',\n",
      "       'EFCalo_e140_lhloose_nod0_ringer_v9',\n",
      "       'HLT_e140_lhloose_nod0_ringer_v9'], dtype=object)\n"
     ]
    }
   ],
   "source": [
    "pprint(table.columns.values)"
   ]
  },
  {
   "cell_type": "code",
   "execution_count": 4,
   "id": "5469694f-f0bc-4c43-bb5d-bd9417bf0ddd",
   "metadata": {},
   "outputs": [
    {
     "name": "stdout",
     "output_type": "stream",
     "text": [
      "2021-11-22 12:58:27,763 | Py.Efficiency                           INFO Creating the StoreGate service with path: efficiencies_2017_EGAM1.root\n"
     ]
    }
   ],
   "source": [
    "eff_sgn = Efficiency('efficiencies_2017_EGAM1.root')"
   ]
  },
  {
   "cell_type": "code",
   "execution_count": 5,
   "id": "5a9b2751-0680-4923-81bc-e36faa91e0dc",
   "metadata": {},
   "outputs": [
    {
     "name": "stderr",
     "output_type": "stream",
     "text": [
      "Filling...: 100%|██████████| 5/5 [06:04<00:00, 72.99s/it]\n"
     ]
    },
    {
     "name": "stdout",
     "output_type": "stream",
     "text": [
      "HLT_e28_lhtight_nod0_noringer_ivarloose\n",
      "+--------+----------+-------------------+\n",
      "|  Step  | Eff [%%] |    passed/total   |\n",
      "+--------+----------+-------------------+\n",
      "| L1Calo | 94.6937  | 21557594/22765602 |\n",
      "| L2Calo | 93.9991  | 21399463/22765602 |\n",
      "|   L2   | 93.8887  | 21374319/22765602 |\n",
      "| EFCalo | 92.9700  | 21165186/22765602 |\n",
      "|  HLT   | 86.8600  | 19774199/22765602 |\n",
      "+--------+----------+-------------------+\n"
     ]
    },
    {
     "name": "stderr",
     "output_type": "stream",
     "text": [
      "Filling...: 100%|██████████| 5/5 [06:08<00:00, 73.71s/it]\n"
     ]
    },
    {
     "name": "stdout",
     "output_type": "stream",
     "text": [
      "HLT_e28_lhtight_nod0_ringer_v8_ivarloose\n",
      "+--------+----------+-------------------+\n",
      "|  Step  | Eff [%%] |    passed/total   |\n",
      "+--------+----------+-------------------+\n",
      "| L1Calo | 94.6937  | 21557594/22765602 |\n",
      "| L2Calo | 94.2157  | 21448764/22765602 |\n",
      "|   L2   | 94.1028  | 21423060/22765602 |\n",
      "| EFCalo | 93.1780  | 21212524/22765602 |\n",
      "|  HLT   | 87.0025  | 19806647/22765602 |\n",
      "+--------+----------+-------------------+\n"
     ]
    },
    {
     "name": "stderr",
     "output_type": "stream",
     "text": [
      "Filling...: 100%|██████████| 5/5 [06:03<00:00, 72.72s/it]\n"
     ]
    },
    {
     "name": "stdout",
     "output_type": "stream",
     "text": [
      "HLT_e28_lhtight_nod0_ringer_v9_ivarloose\n",
      "+--------+----------+-------------------+\n",
      "|  Step  | Eff [%%] |    passed/total   |\n",
      "+--------+----------+-------------------+\n",
      "| L1Calo | 94.6937  | 21557594/22765602 |\n",
      "| L2Calo | 94.2358  | 21453342/22765602 |\n",
      "|   L2   | 94.1218  | 21427389/22765602 |\n",
      "| EFCalo | 93.1977  | 21217025/22765602 |\n",
      "|  HLT   | 87.0343  | 19813876/22765602 |\n",
      "+--------+----------+-------------------+\n"
     ]
    }
   ],
   "source": [
    "eff_sgn.fill(table[table.target==1], 'HLT_e28_lhtight_nod0_noringer_ivarloose'  , pidname = 'el_lhtight', reset=True)\n",
    "eff_sgn.fill(table[table.target==1], 'HLT_e28_lhtight_nod0_ringer_v8_ivarloose' , pidname = 'el_lhtight', reset=True)\n",
    "eff_sgn.fill(table[table.target==1], 'HLT_e28_lhtight_nod0_ringer_v9_ivarloose' , pidname = 'el_lhtight', reset=True)"
   ]
  },
  {
   "cell_type": "code",
   "execution_count": 6,
   "id": "1348a11b-adcb-42cd-893c-97fff7249011",
   "metadata": {},
   "outputs": [
    {
     "name": "stderr",
     "output_type": "stream",
     "text": [
      "Filling...: 100%|██████████| 5/5 [08:40<00:00, 104.08s/it]\n"
     ]
    },
    {
     "name": "stdout",
     "output_type": "stream",
     "text": [
      "HLT_e17_lhvloose_nod0_noringer_L1EM15VHI\n",
      "+--------+----------+-------------------+\n",
      "|  Step  | Eff [%%] |    passed/total   |\n",
      "+--------+----------+-------------------+\n",
      "| L1Calo | 94.1069  | 30158981/32047563 |\n",
      "| L2Calo | 93.4788  | 29957673/32047563 |\n",
      "|   L2   | 93.2579  | 29886887/32047563 |\n",
      "| EFCalo | 91.9467  | 29466662/32047563 |\n",
      "|  HLT   | 89.9275  | 28819560/32047563 |\n",
      "+--------+----------+-------------------+\n"
     ]
    },
    {
     "name": "stderr",
     "output_type": "stream",
     "text": [
      "Filling...: 100%|██████████| 5/5 [08:38<00:00, 103.68s/it]\n"
     ]
    },
    {
     "name": "stdout",
     "output_type": "stream",
     "text": [
      "HLT_e17_lhvloose_nod0_ringer_v8_L1EM15VHI\n",
      "+--------+----------+-------------------+\n",
      "|  Step  | Eff [%%] |    passed/total   |\n",
      "+--------+----------+-------------------+\n",
      "| L1Calo | 94.1069  | 30158981/32047563 |\n",
      "| L2Calo | 93.5878  | 29992601/32047563 |\n",
      "|   L2   | 93.3463  | 29915221/32047563 |\n",
      "| EFCalo | 92.0323  | 29494094/32047563 |\n",
      "|  HLT   | 90.0542  | 28860188/32047563 |\n",
      "+--------+----------+-------------------+\n"
     ]
    },
    {
     "name": "stderr",
     "output_type": "stream",
     "text": [
      "Filling...: 100%|██████████| 5/5 [08:41<00:00, 104.23s/it]"
     ]
    },
    {
     "name": "stdout",
     "output_type": "stream",
     "text": [
      "HLT_e17_lhvloose_nod0_ringer_v9_L1EM15VHI\n",
      "+--------+----------+-------------------+\n",
      "|  Step  | Eff [%%] |    passed/total   |\n",
      "+--------+----------+-------------------+\n",
      "| L1Calo | 94.1069  | 30158981/32047563 |\n",
      "| L2Calo | 93.4431  | 29946240/32047563 |\n",
      "|   L2   | 93.2044  | 29869739/32047563 |\n",
      "| EFCalo | 91.8945  | 29449958/32047563 |\n",
      "|  HLT   | 89.9887  | 28839182/32047563 |\n",
      "+--------+----------+-------------------+\n"
     ]
    },
    {
     "name": "stderr",
     "output_type": "stream",
     "text": [
      "\n"
     ]
    }
   ],
   "source": [
    "eff_sgn.fill(table[table.target==1], 'HLT_e17_lhvloose_nod0_noringer_L1EM15VHI'  , pidname = 'el_lhvloose', reset=True)\n",
    "eff_sgn.fill(table[table.target==1], 'HLT_e17_lhvloose_nod0_ringer_v8_L1EM15VHI' , pidname = 'el_lhvloose', reset=True)\n",
    "eff_sgn.fill(table[table.target==1], 'HLT_e17_lhvloose_nod0_ringer_v9_L1EM15VHI' , pidname = 'el_lhvloose', reset=True)"
   ]
  },
  {
   "cell_type": "code",
   "execution_count": 7,
   "id": "ce02c717-554d-45af-b61c-b53ece340549",
   "metadata": {},
   "outputs": [
    {
     "name": "stderr",
     "output_type": "stream",
     "text": [
      "Filling...: 100%|██████████| 5/5 [00:23<00:00,  4.66s/it]\n"
     ]
    },
    {
     "name": "stdout",
     "output_type": "stream",
     "text": [
      "HLT_e60_lhmedium_nod0_noringer_L1EM24VHI\n",
      "+--------+----------+-----------------+\n",
      "|  Step  | Eff [%%] |   passed/total  |\n",
      "+--------+----------+-----------------+\n",
      "| L1Calo | 99.5079  | 1361055/1367786 |\n",
      "| L2Calo | 97.3246  | 1331192/1367786 |\n",
      "|   L2   | 97.2366  | 1329988/1367786 |\n",
      "| EFCalo | 95.1484  | 1301426/1367786 |\n",
      "|  HLT   | 91.8844  | 1256782/1367786 |\n",
      "+--------+----------+-----------------+\n"
     ]
    },
    {
     "name": "stderr",
     "output_type": "stream",
     "text": [
      "Filling...: 100%|██████████| 5/5 [00:23<00:00,  4.66s/it]\n"
     ]
    },
    {
     "name": "stdout",
     "output_type": "stream",
     "text": [
      "HLT_e60_lhmedium_nod0_ringer_v8_L1EM24VHI\n",
      "+--------+----------+-----------------+\n",
      "|  Step  | Eff [%%] |   passed/total  |\n",
      "+--------+----------+-----------------+\n",
      "| L1Calo | 99.5079  | 1361055/1367786 |\n",
      "| L2Calo | 97.3590  | 1331663/1367786 |\n",
      "|   L2   | 97.2708  | 1330456/1367786 |\n",
      "| EFCalo | 95.1809  | 1301871/1367786 |\n",
      "|  HLT   | 91.9016  | 1257017/1367786 |\n",
      "+--------+----------+-----------------+\n"
     ]
    },
    {
     "name": "stderr",
     "output_type": "stream",
     "text": [
      "Filling...: 100%|██████████| 5/5 [00:23<00:00,  4.63s/it]"
     ]
    },
    {
     "name": "stdout",
     "output_type": "stream",
     "text": [
      "HLT_e60_lhmedium_nod0_ringer_v9_L1EM24VHI\n",
      "+--------+----------+-----------------+\n",
      "|  Step  | Eff [%%] |   passed/total  |\n",
      "+--------+----------+-----------------+\n",
      "| L1Calo | 99.5079  | 1361055/1367786 |\n",
      "| L2Calo | 97.1882  | 1329326/1367786 |\n",
      "|   L2   | 97.0990  | 1328107/1367786 |\n",
      "| EFCalo | 95.0086  | 1299515/1367786 |\n",
      "|  HLT   | 91.7355  | 1254746/1367786 |\n",
      "+--------+----------+-----------------+\n"
     ]
    },
    {
     "name": "stderr",
     "output_type": "stream",
     "text": [
      "\n"
     ]
    }
   ],
   "source": [
    "eff_sgn.fill(table[table.target==1], 'HLT_e60_lhmedium_nod0_noringer_L1EM24VHI'  , pidname = 'el_lhmedium', reset=True)\n",
    "eff_sgn.fill(table[table.target==1], 'HLT_e60_lhmedium_nod0_ringer_v8_L1EM24VHI' , pidname = 'el_lhmedium', reset=True)\n",
    "eff_sgn.fill(table[table.target==1], 'HLT_e60_lhmedium_nod0_ringer_v9_L1EM24VHI' , pidname = 'el_lhmedium', reset=True)"
   ]
  },
  {
   "cell_type": "code",
   "execution_count": 8,
   "id": "c2a68a52-2a11-4eb1-89af-dc72203317a3",
   "metadata": {},
   "outputs": [
    {
     "name": "stderr",
     "output_type": "stream",
     "text": [
      "Filling...: 100%|██████████| 5/5 [00:00<00:00,  5.79it/s]\n"
     ]
    },
    {
     "name": "stdout",
     "output_type": "stream",
     "text": [
      "HLT_e140_lhloose_nod0_noringer\n",
      "+--------+----------+--------------+\n",
      "|  Step  | Eff [%%] | passed/total |\n",
      "+--------+----------+--------------+\n",
      "| L1Calo | 100.0000 | 60541/60541  |\n",
      "| L2Calo | 98.1566  | 59425/60541  |\n",
      "|   L2   | 98.0856  | 59382/60541  |\n",
      "| EFCalo | 96.7543  | 58576/60541  |\n",
      "|  HLT   | 94.7094  | 57338/60541  |\n",
      "+--------+----------+--------------+\n"
     ]
    },
    {
     "name": "stderr",
     "output_type": "stream",
     "text": [
      "Filling...: 100%|██████████| 5/5 [00:00<00:00,  5.79it/s]\n"
     ]
    },
    {
     "name": "stdout",
     "output_type": "stream",
     "text": [
      "HLT_e140_lhloose_nod0_ringer_v8\n",
      "+--------+----------+--------------+\n",
      "|  Step  | Eff [%%] | passed/total |\n",
      "+--------+----------+--------------+\n",
      "| L1Calo | 100.0000 | 60541/60541  |\n",
      "| L2Calo | 97.9881  | 59323/60541  |\n",
      "|   L2   | 97.9221  | 59283/60541  |\n",
      "| EFCalo | 96.6007  | 58483/60541  |\n",
      "|  HLT   | 94.6235  | 57286/60541  |\n",
      "+--------+----------+--------------+\n"
     ]
    },
    {
     "name": "stderr",
     "output_type": "stream",
     "text": [
      "Filling...: 100%|██████████| 5/5 [00:00<00:00,  5.78it/s]"
     ]
    },
    {
     "name": "stdout",
     "output_type": "stream",
     "text": [
      "HLT_e140_lhloose_nod0_ringer_v9\n",
      "+--------+----------+--------------+\n",
      "|  Step  | Eff [%%] | passed/total |\n",
      "+--------+----------+--------------+\n",
      "| L1Calo | 100.0000 | 60541/60541  |\n",
      "| L2Calo | 97.8164  | 59219/60541  |\n",
      "|   L2   | 97.7486  | 59178/60541  |\n",
      "| EFCalo | 96.4305  | 58380/60541  |\n",
      "|  HLT   | 94.5161  | 57221/60541  |\n",
      "+--------+----------+--------------+\n"
     ]
    },
    {
     "name": "stderr",
     "output_type": "stream",
     "text": [
      "\n"
     ]
    }
   ],
   "source": [
    "eff_sgn.fill(table[table.target==1], 'HLT_e140_lhloose_nod0_noringer'  , pidname = 'el_lhloose', reset=True)\n",
    "eff_sgn.fill(table[table.target==1], 'HLT_e140_lhloose_nod0_ringer_v8' , pidname = 'el_lhloose', reset=True)\n",
    "eff_sgn.fill(table[table.target==1], 'HLT_e140_lhloose_nod0_ringer_v9' , pidname = 'el_lhloose', reset=True)"
   ]
  },
  {
   "cell_type": "code",
   "execution_count": 9,
   "id": "f1829fec-016d-4251-b17b-b95b9d694c6b",
   "metadata": {},
   "outputs": [],
   "source": [
    "eff_sgn.save()"
   ]
  },
  {
   "cell_type": "code",
   "execution_count": 10,
   "id": "03520c11-3d41-4f88-98d3-b283d570cb38",
   "metadata": {},
   "outputs": [
    {
     "name": "stdout",
     "output_type": "stream",
     "text": [
      "2021-11-22 13:48:16,806 | Py.Efficiency                           INFO Creating the StoreGate service with path: efficiencies_2017_EGAM7.root\n"
     ]
    }
   ],
   "source": [
    "eff_bkg = Efficiency('efficiencies_2017_EGAM7.root')"
   ]
  },
  {
   "cell_type": "code",
   "execution_count": 11,
   "id": "435a7393-17a9-40b9-bd9a-4c572424aea1",
   "metadata": {},
   "outputs": [
    {
     "name": "stderr",
     "output_type": "stream",
     "text": [
      "Filling...: 100%|██████████| 5/5 [01:33<00:00, 18.71s/it]\n"
     ]
    },
    {
     "name": "stdout",
     "output_type": "stream",
     "text": [
      "HLT_e28_lhtight_nod0_noringer_ivarloose\n",
      "+--------+----------+-----------------+\n",
      "|  Step  | Eff [%%] |   passed/total  |\n",
      "+--------+----------+-----------------+\n",
      "| L1Calo | 90.6060  | 8384948/9254300 |\n",
      "| L2Calo | 26.4611  | 2448794/9254300 |\n",
      "|   L2   | 26.3965  | 2442814/9254300 |\n",
      "| EFCalo | 26.0071  | 2406771/9254300 |\n",
      "|  HLT   |  0.0034  |   313/9254300   |\n",
      "+--------+----------+-----------------+\n"
     ]
    },
    {
     "name": "stderr",
     "output_type": "stream",
     "text": [
      "Filling...: 100%|██████████| 5/5 [01:20<00:00, 16.18s/it]\n"
     ]
    },
    {
     "name": "stdout",
     "output_type": "stream",
     "text": [
      "HLT_e28_lhtight_nod0_ringer_v8_ivarloose\n",
      "+--------+----------+-----------------+\n",
      "|  Step  | Eff [%%] |   passed/total  |\n",
      "+--------+----------+-----------------+\n",
      "| L1Calo | 90.6060  | 8384948/9254300 |\n",
      "| L2Calo |  1.0803  |  99976/9254300  |\n",
      "|   L2   |  1.0169  |  94110/9254300  |\n",
      "| EFCalo |  0.8578  |  79379/9254300  |\n",
      "|  HLT   |  0.0020  |   187/9254300   |\n",
      "+--------+----------+-----------------+\n"
     ]
    },
    {
     "name": "stderr",
     "output_type": "stream",
     "text": [
      "Filling...: 100%|██████████| 5/5 [01:21<00:00, 16.29s/it]"
     ]
    },
    {
     "name": "stdout",
     "output_type": "stream",
     "text": [
      "HLT_e28_lhtight_nod0_ringer_v9_ivarloose\n",
      "+--------+----------+-----------------+\n",
      "|  Step  | Eff [%%] |   passed/total  |\n",
      "+--------+----------+-----------------+\n",
      "| L1Calo | 90.6060  | 8384948/9254300 |\n",
      "| L2Calo |  0.5657  |  52352/9254300  |\n",
      "|   L2   |  0.5202  |  48137/9254300  |\n",
      "| EFCalo |  0.4194  |  38812/9254300  |\n",
      "|  HLT   |  0.0014  |   125/9254300   |\n",
      "+--------+----------+-----------------+\n"
     ]
    },
    {
     "name": "stderr",
     "output_type": "stream",
     "text": [
      "\n"
     ]
    }
   ],
   "source": [
    "eff_bkg.fill(table[table.target==0], 'HLT_e28_lhtight_nod0_noringer_ivarloose'  , reset=True)\n",
    "eff_bkg.fill(table[table.target==0], 'HLT_e28_lhtight_nod0_ringer_v8_ivarloose' , reset=True)\n",
    "eff_bkg.fill(table[table.target==0], 'HLT_e28_lhtight_nod0_ringer_v9_ivarloose' , reset=True)"
   ]
  },
  {
   "cell_type": "code",
   "execution_count": 12,
   "id": "e8e11f5e-c041-4093-8ce7-aad346c42452",
   "metadata": {},
   "outputs": [
    {
     "name": "stderr",
     "output_type": "stream",
     "text": [
      "Filling...: 100%|██████████| 5/5 [01:48<00:00, 21.61s/it]\n"
     ]
    },
    {
     "name": "stdout",
     "output_type": "stream",
     "text": [
      "HLT_e17_lhvloose_nod0_noringer_L1EM15VHI\n",
      "+--------+----------+------------------+\n",
      "|  Step  | Eff [%%] |   passed/total   |\n",
      "+--------+----------+------------------+\n",
      "| L1Calo | 84.4275  | 8738241/10349992 |\n",
      "| L2Calo | 35.8232  | 3707702/10349992 |\n",
      "|   L2   | 35.7604  | 3701194/10349992 |\n",
      "| EFCalo | 35.3166  | 3655262/10349992 |\n",
      "|  HLT   |  0.2862  |  29618/10349992  |\n",
      "+--------+----------+------------------+\n"
     ]
    },
    {
     "name": "stderr",
     "output_type": "stream",
     "text": [
      "Filling...: 100%|██████████| 5/5 [01:30<00:00, 18.06s/it]\n"
     ]
    },
    {
     "name": "stdout",
     "output_type": "stream",
     "text": [
      "HLT_e17_lhvloose_nod0_ringer_v8_L1EM15VHI\n",
      "+--------+----------+------------------+\n",
      "|  Step  | Eff [%%] |   passed/total   |\n",
      "+--------+----------+------------------+\n",
      "| L1Calo | 84.4275  | 8738241/10349992 |\n",
      "| L2Calo |  2.7435  | 283950/10349992  |\n",
      "|   L2   |  2.6375  | 272977/10349992  |\n",
      "| EFCalo |  2.4256  | 251050/10349992  |\n",
      "|  HLT   |  0.1880  |  19454/10349992  |\n",
      "+--------+----------+------------------+\n"
     ]
    },
    {
     "name": "stderr",
     "output_type": "stream",
     "text": [
      "Filling...: 100%|██████████| 5/5 [01:30<00:00, 18.04s/it]"
     ]
    },
    {
     "name": "stdout",
     "output_type": "stream",
     "text": [
      "HLT_e17_lhvloose_nod0_ringer_v9_L1EM15VHI\n",
      "+--------+----------+------------------+\n",
      "|  Step  | Eff [%%] |   passed/total   |\n",
      "+--------+----------+------------------+\n",
      "| L1Calo | 84.4275  | 8738241/10349992 |\n",
      "| L2Calo |  1.5055  | 155817/10349992  |\n",
      "|   L2   |  1.4407  | 149116/10349992  |\n",
      "| EFCalo |  1.2750  | 131961/10349992  |\n",
      "|  HLT   |  0.1328  |  13742/10349992  |\n",
      "+--------+----------+------------------+\n"
     ]
    },
    {
     "name": "stderr",
     "output_type": "stream",
     "text": [
      "\n"
     ]
    }
   ],
   "source": [
    "eff_bkg.fill(table[table.target==0], 'HLT_e17_lhvloose_nod0_noringer_L1EM15VHI'  , reset=True)\n",
    "eff_bkg.fill(table[table.target==0], 'HLT_e17_lhvloose_nod0_ringer_v8_L1EM15VHI' , reset=True)\n",
    "eff_bkg.fill(table[table.target==0], 'HLT_e17_lhvloose_nod0_ringer_v9_L1EM15VHI' , reset=True)"
   ]
  },
  {
   "cell_type": "code",
   "execution_count": 13,
   "id": "1c1a8497-0e3f-40f5-a619-912ba1e51635",
   "metadata": {},
   "outputs": [
    {
     "name": "stderr",
     "output_type": "stream",
     "text": [
      "Filling...: 100%|██████████| 5/5 [01:22<00:00, 16.59s/it]\n"
     ]
    },
    {
     "name": "stdout",
     "output_type": "stream",
     "text": [
      "HLT_e60_lhmedium_nod0_noringer_L1EM24VHI\n",
      "+--------+----------+-----------------+\n",
      "|  Step  | Eff [%%] |   passed/total  |\n",
      "+--------+----------+-----------------+\n",
      "| L1Calo | 99.9012  | 7844422/7852181 |\n",
      "| L2Calo | 34.4354  | 2703931/7852181 |\n",
      "|   L2   | 34.3616  | 2698132/7852181 |\n",
      "| EFCalo | 33.8804  | 2660352/7852181 |\n",
      "|  HLT   |  0.0059  |   463/7852181   |\n",
      "+--------+----------+-----------------+\n"
     ]
    },
    {
     "name": "stderr",
     "output_type": "stream",
     "text": [
      "Filling...: 100%|██████████| 5/5 [01:10<00:00, 14.08s/it]\n"
     ]
    },
    {
     "name": "stdout",
     "output_type": "stream",
     "text": [
      "HLT_e60_lhmedium_nod0_ringer_v8_L1EM24VHI\n",
      "+--------+----------+-----------------+\n",
      "|  Step  | Eff [%%] |   passed/total  |\n",
      "+--------+----------+-----------------+\n",
      "| L1Calo | 99.9012  | 7844422/7852181 |\n",
      "| L2Calo |  1.1145  |  87512/7852181  |\n",
      "|   L2   |  1.0413  |  81764/7852181  |\n",
      "| EFCalo |  0.8495  |  66705/7852181  |\n",
      "|  HLT   |  0.0031  |   246/7852181   |\n",
      "+--------+----------+-----------------+\n"
     ]
    },
    {
     "name": "stderr",
     "output_type": "stream",
     "text": [
      "Filling...: 100%|██████████| 5/5 [01:09<00:00, 14.00s/it]"
     ]
    },
    {
     "name": "stdout",
     "output_type": "stream",
     "text": [
      "HLT_e60_lhmedium_nod0_ringer_v9_L1EM24VHI\n",
      "+--------+----------+-----------------+\n",
      "|  Step  | Eff [%%] |   passed/total  |\n",
      "+--------+----------+-----------------+\n",
      "| L1Calo | 99.9012  | 7844422/7852181 |\n",
      "| L2Calo |  0.5390  |  42325/7852181  |\n",
      "|   L2   |  0.4846  |  38053/7852181  |\n",
      "| EFCalo |  0.3599  |  28258/7852181  |\n",
      "|  HLT   |  0.0015  |   117/7852181   |\n",
      "+--------+----------+-----------------+\n"
     ]
    },
    {
     "name": "stderr",
     "output_type": "stream",
     "text": [
      "\n"
     ]
    }
   ],
   "source": [
    "eff_bkg.fill(table[table.target==0], 'HLT_e60_lhmedium_nod0_noringer_L1EM24VHI'  , reset=True)\n",
    "eff_bkg.fill(table[table.target==0], 'HLT_e60_lhmedium_nod0_ringer_v8_L1EM24VHI' , reset=True)\n",
    "eff_bkg.fill(table[table.target==0], 'HLT_e60_lhmedium_nod0_ringer_v9_L1EM24VHI' , reset=True)"
   ]
  },
  {
   "cell_type": "code",
   "execution_count": 14,
   "id": "15a32f8a-bc53-466b-aa88-ec2b7a69d10b",
   "metadata": {},
   "outputs": [
    {
     "name": "stderr",
     "output_type": "stream",
     "text": [
      "Filling...: 100%|██████████| 5/5 [01:12<00:00, 14.60s/it]\n"
     ]
    },
    {
     "name": "stdout",
     "output_type": "stream",
     "text": [
      "HLT_e140_lhloose_nod0_noringer\n",
      "+--------+----------+-----------------+\n",
      "|  Step  | Eff [%%] |   passed/total  |\n",
      "+--------+----------+-----------------+\n",
      "| L1Calo | 99.9227  | 5629684/5634041 |\n",
      "| L2Calo | 94.5886  | 5329159/5634041 |\n",
      "|   L2   | 69.0642  | 3891106/5634041 |\n",
      "| EFCalo | 67.8555  | 3823006/5634041 |\n",
      "|  HLT   |  0.0715  |   4031/5634041  |\n",
      "+--------+----------+-----------------+\n"
     ]
    },
    {
     "name": "stderr",
     "output_type": "stream",
     "text": [
      "Filling...: 100%|██████████| 5/5 [00:51<00:00, 10.21s/it]\n"
     ]
    },
    {
     "name": "stdout",
     "output_type": "stream",
     "text": [
      "HLT_e140_lhloose_nod0_ringer_v8\n",
      "+--------+----------+-----------------+\n",
      "|  Step  | Eff [%%] |   passed/total  |\n",
      "+--------+----------+-----------------+\n",
      "| L1Calo | 99.9227  | 5629684/5634041 |\n",
      "| L2Calo |  2.6238  |  147827/5634041 |\n",
      "|   L2   |  2.4990  |  140795/5634041 |\n",
      "| EFCalo |  2.2061  |  124293/5634041 |\n",
      "|  HLT   |  0.0534  |   3007/5634041  |\n",
      "+--------+----------+-----------------+\n"
     ]
    },
    {
     "name": "stderr",
     "output_type": "stream",
     "text": [
      "Filling...: 100%|██████████| 5/5 [00:50<00:00, 10.17s/it]"
     ]
    },
    {
     "name": "stdout",
     "output_type": "stream",
     "text": [
      "HLT_e140_lhloose_nod0_ringer_v9\n",
      "+--------+----------+-----------------+\n",
      "|  Step  | Eff [%%] |   passed/total  |\n",
      "+--------+----------+-----------------+\n",
      "| L1Calo | 99.9227  | 5629684/5634041 |\n",
      "| L2Calo |  1.3141  |  74038/5634041  |\n",
      "|   L2   |  1.2281  |  69190/5634041  |\n",
      "| EFCalo |  1.0017  |  56435/5634041  |\n",
      "|  HLT   |  0.0356  |   2008/5634041  |\n",
      "+--------+----------+-----------------+\n"
     ]
    },
    {
     "name": "stderr",
     "output_type": "stream",
     "text": [
      "\n"
     ]
    }
   ],
   "source": [
    "eff_bkg.fill(table[table.target==0], 'HLT_e140_lhloose_nod0_noringer'  , reset=True)\n",
    "eff_bkg.fill(table[table.target==0], 'HLT_e140_lhloose_nod0_ringer_v8' , reset=True)\n",
    "eff_bkg.fill(table[table.target==0], 'HLT_e140_lhloose_nod0_ringer_v9' , reset=True)"
   ]
  },
  {
   "cell_type": "code",
   "execution_count": 15,
   "id": "4af76057-1fd4-431f-83c2-6a222827348b",
   "metadata": {},
   "outputs": [],
   "source": [
    "eff_bkg.save()"
   ]
  },
  {
   "cell_type": "code",
   "execution_count": null,
   "id": "aae9971b-5c07-410a-b71b-b7f379d72ac4",
   "metadata": {},
   "outputs": [],
   "source": []
  }
 ],
 "metadata": {
  "kernelspec": {
   "display_name": "Python 3",
   "language": "python",
   "name": "python3"
  },
  "language_info": {
   "codemirror_mode": {
    "name": "ipython",
    "version": 3
   },
   "file_extension": ".py",
   "mimetype": "text/x-python",
   "name": "python",
   "nbconvert_exporter": "python",
   "pygments_lexer": "ipython3",
   "version": "3.6.9"
  }
 },
 "nbformat": 4,
 "nbformat_minor": 5
}
