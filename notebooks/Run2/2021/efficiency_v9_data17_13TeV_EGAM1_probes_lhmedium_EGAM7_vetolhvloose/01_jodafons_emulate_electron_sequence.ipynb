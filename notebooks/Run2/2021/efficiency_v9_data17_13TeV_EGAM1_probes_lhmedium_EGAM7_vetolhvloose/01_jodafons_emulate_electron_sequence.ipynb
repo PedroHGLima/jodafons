{
 "cells": [
  {
   "cell_type": "markdown",
   "id": "ca2f7274-f3c9-4920-8846-f57206e7ce34",
   "metadata": {},
   "source": [
    "# Kepler Framework Examples"
   ]
  },
  {
   "cell_type": "code",
   "execution_count": 1,
   "id": "59967f39-befe-42c6-b8aa-c81bcc13734b",
   "metadata": {},
   "outputs": [
    {
     "name": "stdout",
     "output_type": "stream",
     "text": [
      "Welcome to JupyROOT 6.16/00\n",
      "Using all sub packages with ROOT dependence\n"
     ]
    }
   ],
   "source": [
    "from kepler.pandas.menu       import ElectronSequence as Chain\n",
    "from kepler.pandas.readers    import load, load_in_loop\n",
    "from kepler.pandas.decorators import create_ringer_v8_decorators, create_ringer_v9_decorators\n",
    "import numpy as np\n",
    "import pandas as pd\n",
    "import collections\n",
    "import os\n",
    "from pprint import pprint\n",
    "from copy import deepcopy\n",
    "import gc\n",
    "%config InlineBackend.figure_format = 'retina'\n",
    "%load_ext autoreload\n",
    "%autoreload 2"
   ]
  },
  {
   "cell_type": "code",
   "execution_count": 2,
   "id": "9906fa52-812f-4db7-9f00-e5c9a8b317ff",
   "metadata": {},
   "outputs": [],
   "source": [
    "dpath = '/home/jodafons/public/cern_data/new_files/data17_13TeV.AllPeriods.sgn.probes_lhvloose_EGAM1.bkg.vprobes_vlhvloose_EGAM7.GRL_v97.25bins'\n",
    "dpath+= '/data17_13TeV.AllPeriods.sgn.probes_lhvloose_EGAM1.bkg.vprobes_vlhvloose_EGAM7.GRL_v97.25bins_et{ET}_eta{ETA}.npz'\n",
    "paths = []\n",
    "for et in range(5):\n",
    "    for eta in range(5):\n",
    "        paths.append( dpath.format(ET=et,ETA=eta) )"
   ]
  },
  {
   "cell_type": "code",
   "execution_count": 3,
   "id": "1d004cc7-9b57-4835-8be4-7f21cce876c8",
   "metadata": {},
   "outputs": [],
   "source": [
    "drop_columns = [\n",
    "                    'RunNumber', \n",
    "                    #'avgmu',\n",
    "                    #'trig_L2_cl_et',\n",
    "                    #'trig_L2_cl_eta',\n",
    "                    #'trig_L2_cl_phi',\n",
    "                    #'trig_L2_cl_reta',\n",
    "                    #'trig_L2_cl_ehad1', \n",
    "                    #'trig_L2_cl_eratio',\n",
    "                    #'trig_L2_cl_f1', \n",
    "                    #'trig_L2_cl_f3', \n",
    "                    #'trig_L2_cl_weta2', \n",
    "                    #'trig_L2_cl_wstot', \n",
    "                    'trig_L2_cl_e2tsts1',\n",
    "                    'trig_L2_el_hastrack',\n",
    "                    'trig_L2_el_pt',\n",
    "                    'trig_L2_el_eta',\n",
    "                    'trig_L2_el_phi',\n",
    "                    'trig_L2_el_caloEta',\n",
    "                    'trig_L2_el_trkClusDeta',\n",
    "                    'trig_L2_el_trkClusDphi',\n",
    "                    'trig_L2_el_etOverPt',\n",
    "                    'trig_EF_cl_hascluster',\n",
    "                    #'trig_EF_cl_et',\n",
    "                    'trig_EF_cl_eta',\n",
    "                    'trig_EF_cl_etaBE2',\n",
    "                    'trig_EF_cl_phi',     \n",
    "                    'trig_EF_el_hascand',\n",
    "                    #'trig_EF_el_et',\n",
    "                    'trig_EF_el_eta',\n",
    "                    'trig_EF_el_etaBE2',\n",
    "                    'trig_EF_el_phi',\n",
    "                    'trig_EF_el_rhad1',\n",
    "                    'trig_EF_el_rhad',\n",
    "                    'trig_EF_el_f3',\n",
    "                    'trig_EF_el_weta2',\n",
    "                    'trig_EF_el_rphi',\n",
    "                    'trig_EF_el_reta',\n",
    "                    'trig_EF_el_wtots1',\n",
    "                    'trig_EF_el_eratio',\n",
    "                    'trig_EF_el_f1',\n",
    "                    'trig_EF_el_hastrack',\n",
    "                    'trig_EF_el_deltaEta1',\n",
    "                    'trig_EF_el_deltaPhi2',\n",
    "                    'trig_EF_el_deltaPhi2Rescaled',\n",
    "                    #'trig_EF_el_lhtight',\n",
    "                    #'trig_EF_el_lhmedium',\n",
    "                    #'trig_EF_el_lhloose',\n",
    "                    #'trig_EF_el_lhvloose', \n",
    "                    # Offline variables\n",
    "                    #'el_et',\n",
    "                    #'el_eta',\n",
    "                    'el_etaBE2',\n",
    "                    #'el_phi',\n",
    "                    # offline shower shapers\n",
    "                    #'el_rhad1',\n",
    "                    #'el_rhad',\n",
    "                    #'el_f3',\n",
    "                    #'el_weta2',\n",
    "                    #'el_rphi',\n",
    "                    #'el_reta',\n",
    "                    #'el_wtots1',\n",
    "                    #'el_eratio',\n",
    "                    #'el_f1',\n",
    "                    # offline track\n",
    "                    #'el_hastrack',\n",
    "                    'el_numberOfBLayerHits',\n",
    "                    'el_numberOfPixelHits',\n",
    "                    'el_numberOfTRTHits',\n",
    "                    #'el_d0',\n",
    "                    #'el_d0significance',\n",
    "                    #'el_eProbabilityHT',\n",
    "                    'el_trans_TRT_PID',\n",
    "                    #'el_deltaEta1',\n",
    "                    'el_deltaPhi2',\n",
    "                    #'el_deltaPhi2Rescaled',\n",
    "                    #'el_deltaPOverP',\n",
    "                    #'el_lhtight',\n",
    "                    #'el_lhmedium',\n",
    "                    #'el_lhloose',\n",
    "                    #'el_lhvloose',\n",
    "                    'el_TaP_Mass',\n",
    "                    #'el_TaP_deltaR',\n",
    "                ] \n",
    "\n",
    "drop_columns.extend( ['trig_L2_cl_ring_%d'%i for i in range(100)] )\n",
    "\n"
   ]
  },
  {
   "cell_type": "code",
   "execution_count": 4,
   "id": "a89e1064-3ad2-4213-b386-cebf5b82f248",
   "metadata": {},
   "outputs": [
    {
     "name": "stdout",
     "output_type": "stream",
     "text": [
      "2021-11-22 11:38:09,891 | Py.RingerDecorator                      INFO Reading... /home/jodafons/git_repos/ringer/build/models/models/Zee/TrigL2_20211114_v8/ElectronRingerTightTriggerConfig.conf\n",
      "2021-11-22 11:38:12,149 | Py.RingerDecorator                      INFO Reading... /home/jodafons/git_repos/ringer/build/models/models/Zee/TrigL2_20211114_v8/ElectronRingerMediumTriggerConfig.conf\n",
      "2021-11-22 11:38:13,210 | Py.RingerDecorator                      INFO Reading... /home/jodafons/git_repos/ringer/build/models/models/Zee/TrigL2_20211114_v8/ElectronRingerLooseTriggerConfig.conf\n",
      "2021-11-22 11:38:14,424 | Py.RingerDecorator                      INFO Reading... /home/jodafons/git_repos/ringer/build/models/models/Zee/TrigL2_20211114_v8/ElectronRingerVeryLooseTriggerConfig.conf\n",
      "2021-11-22 11:38:15,709 | Py.RingerDecorator                      INFO Reading... /home/jodafons/git_repos/ringer/build/models/models/Zee/TrigL2_20211114_v9/ElectronRingerTightTriggerConfig.conf\n",
      "2021-11-22 11:38:16,906 | Py.RingerDecorator                      INFO Reading... /home/jodafons/git_repos/ringer/build/models/models/Zee/TrigL2_20211114_v9/ElectronRingerMediumTriggerConfig.conf\n",
      "2021-11-22 11:38:17,736 | Py.RingerDecorator                      INFO Reading... /home/jodafons/git_repos/ringer/build/models/models/Zee/TrigL2_20211114_v9/ElectronRingerLooseTriggerConfig.conf\n",
      "2021-11-22 11:38:18,644 | Py.RingerDecorator                      INFO Reading... /home/jodafons/git_repos/ringer/build/models/models/Zee/TrigL2_20211114_v9/ElectronRingerVeryLooseTriggerConfig.conf\n"
     ]
    },
    {
     "name": "stderr",
     "output_type": "stream",
     "text": [
      "2021-11-22 11:38:10.461739: I tensorflow/stream_executor/platform/default/dso_loader.cc:48] Successfully opened dynamic library libcuda.so.1\n",
      "2021-11-22 11:38:10.461780: E tensorflow/stream_executor/cuda/cuda_driver.cc:314] failed call to cuInit: UNKNOWN ERROR (-1)\n",
      "2021-11-22 11:38:10.461799: I tensorflow/stream_executor/cuda/cuda_diagnostics.cc:156] kernel driver does not appear to be running on this host (caloba52): /proc/driver/nvidia/version does not exist\n",
      "2021-11-22 11:38:10.462137: I tensorflow/core/platform/cpu_feature_guard.cc:142] This TensorFlow binary is optimized with oneAPI Deep Neural Network Library (oneDNN)to use the following CPU instructions in performance-critical operations:  AVX2 AVX512F FMA\n",
      "To enable them in other operations, rebuild TensorFlow with the appropriate compiler flags.\n",
      "2021-11-22 11:38:10.511940: I tensorflow/core/platform/profile_utils/cpu_utils.cc:104] CPU Frequency: 2400000000 Hz\n",
      "2021-11-22 11:38:10.520179: I tensorflow/compiler/xla/service/service.cc:168] XLA service 0x7e058c0 initialized for platform Host (this does not guarantee that XLA will be used). Devices:\n",
      "2021-11-22 11:38:10.520236: I tensorflow/compiler/xla/service/service.cc:176]   StreamExecutor device (0): Host, Default Version\n"
     ]
    }
   ],
   "source": [
    "decorators = create_ringer_v8_decorators()\n",
    "decorators+= create_ringer_v9_decorators()"
   ]
  },
  {
   "cell_type": "markdown",
   "id": "5a0b2e3b-e048-486a-b10e-b38c299dafe2",
   "metadata": {},
   "source": [
    "## Setup Chains:"
   ]
  },
  {
   "cell_type": "code",
   "execution_count": 5,
   "id": "6a8a7130-1079-45e8-86f8-80795de2473d",
   "metadata": {},
   "outputs": [
    {
     "name": "stdout",
     "output_type": "stream",
     "text": [
      "OrderedDict([('L1Seed', 'L1_EM15VHI'),\n",
      "             ('L2Calo', (14000.0, 'trig_L2_cl_lhvloose_et12to20')),\n",
      "             ('L2', 'trig_L2_el_cut_pt15to20'),\n",
      "             ('EFCalo', 17000.0),\n",
      "             ('HLT', (17000.0, 'trig_EF_el_lhvloose'))])\n",
      "OrderedDict([('L1Seed', 'L1_EM15VHI'),\n",
      "             ('L2Calo', (14000.0, 'ringer_v8_vloose')),\n",
      "             ('L2', 'trig_L2_el_cut_pt15to20'),\n",
      "             ('EFCalo', 17000.0),\n",
      "             ('HLT', (17000.0, 'trig_EF_el_lhvloose'))])\n",
      "OrderedDict([('L1Seed', 'L1_EM15VHI'),\n",
      "             ('L2Calo', (14000.0, 'ringer_v9_vloose')),\n",
      "             ('L2', 'trig_L2_el_cut_pt15to20'),\n",
      "             ('EFCalo', 17000.0),\n",
      "             ('HLT', (17000.0, 'trig_EF_el_lhvloose'))])\n",
      "OrderedDict([('L1Seed', 'L1_EM22VHI'),\n",
      "             ('L2Calo', (25000.0, 'trig_L2_cl_lhtight_et22toInf')),\n",
      "             ('L2', 'trig_L2_el_cut_pt20to50'),\n",
      "             ('EFCalo', 28000.0),\n",
      "             ('HLT', (28000.0, 'trig_EF_el_lhtight_ivarloose'))])\n",
      "OrderedDict([('L1Seed', 'L1_EM22VHI'),\n",
      "             ('L2Calo', (25000.0, 'ringer_v8_tight')),\n",
      "             ('L2', 'trig_L2_el_cut_pt20to50'),\n",
      "             ('EFCalo', 28000.0),\n",
      "             ('HLT', (28000.0, 'trig_EF_el_lhtight_ivarloose'))])\n",
      "OrderedDict([('L1Seed', 'L1_EM22VHI'),\n",
      "             ('L2Calo', (25000.0, 'ringer_v9_tight')),\n",
      "             ('L2', 'trig_L2_el_cut_pt20to50'),\n",
      "             ('EFCalo', 28000.0),\n",
      "             ('HLT', (28000.0, 'trig_EF_el_lhtight_ivarloose'))])\n",
      "OrderedDict([('L1Seed', 'L1_EM24VHI'),\n",
      "             ('L2Calo', (57000.0, 'trig_L2_cl_lhmedium_et22toInf')),\n",
      "             ('L2', 'trig_L2_el_cut_pt50toInf'),\n",
      "             ('EFCalo', 60000.0),\n",
      "             ('HLT', (60000.0, 'trig_EF_el_lhmedium'))])\n",
      "OrderedDict([('L1Seed', 'L1_EM24VHI'),\n",
      "             ('L2Calo', (57000.0, 'ringer_v8_medium')),\n",
      "             ('L2', 'trig_L2_el_cut_pt50toInf'),\n",
      "             ('EFCalo', 60000.0),\n",
      "             ('HLT', (60000.0, 'trig_EF_el_lhmedium'))])\n",
      "OrderedDict([('L1Seed', 'L1_EM24VHI'),\n",
      "             ('L2Calo', (57000.0, 'ringer_v9_medium')),\n",
      "             ('L2', 'trig_L2_el_cut_pt50toInf'),\n",
      "             ('EFCalo', 60000.0),\n",
      "             ('HLT', (60000.0, 'trig_EF_el_lhmedium'))])\n",
      "OrderedDict([('L1Seed', 'L1_EM24VHI'),\n",
      "             ('L2Calo', (137000.0, 'trig_L2_cl_lhloose_et22toInf')),\n",
      "             ('L2', 'trig_L2_el_cut_pt50toInf'),\n",
      "             ('EFCalo', 140000.0),\n",
      "             ('HLT', (140000.0, 'trig_EF_el_lhloose'))])\n",
      "OrderedDict([('L1Seed', 'L1_EM24VHI'),\n",
      "             ('L2Calo', (137000.0, 'ringer_v8_loose')),\n",
      "             ('L2', 'trig_L2_el_cut_pt50toInf'),\n",
      "             ('EFCalo', 140000.0),\n",
      "             ('HLT', (140000.0, 'trig_EF_el_lhloose'))])\n",
      "OrderedDict([('L1Seed', 'L1_EM24VHI'),\n",
      "             ('L2Calo', (137000.0, 'ringer_v9_loose')),\n",
      "             ('L2', 'trig_L2_el_cut_pt50toInf'),\n",
      "             ('EFCalo', 140000.0),\n",
      "             ('HLT', (140000.0, 'trig_EF_el_lhloose'))])\n"
     ]
    }
   ],
   "source": [
    "# create my chain\n",
    "chains = [\n",
    "            Chain( \"HLT_e17_lhvloose_nod0_noringer_L1EM15VHI\" , L1Seed = 'L1_EM15VHI'),\n",
    "            Chain( \"HLT_e17_lhvloose_nod0_ringer_v8_L1EM15VHI\", L1Seed = 'L1_EM15VHI' , l2calo_column = 'ringer_v8_vloose'),\n",
    "            Chain( \"HLT_e17_lhvloose_nod0_ringer_v9_L1EM15VHI\", L1Seed = 'L1_EM15VHI' , l2calo_column = 'ringer_v9_vloose'),\n",
    "\n",
    "            Chain( \"HLT_e28_lhtight_nod0_noringer_ivarloose\" , L1Seed = 'L1_EM22VHI'),\n",
    "            Chain( \"HLT_e28_lhtight_nod0_ringer_v8_ivarloose\", L1Seed = 'L1_EM22VHI' , l2calo_column = 'ringer_v8_tight' ),\n",
    "            Chain( \"HLT_e28_lhtight_nod0_ringer_v9_ivarloose\", L1Seed = 'L1_EM22VHI' , l2calo_column = 'ringer_v9_tight' ),\n",
    "    \n",
    "            Chain( \"HLT_e60_lhmedium_nod0_noringer_L1EM24VHI\" , L1Seed = 'L1_EM24VHI'),\n",
    "            Chain( \"HLT_e60_lhmedium_nod0_ringer_v8_L1EM24VHI\", L1Seed = 'L1_EM24VHI' , l2calo_column = 'ringer_v8_medium'),\n",
    "            Chain( \"HLT_e60_lhmedium_nod0_ringer_v9_L1EM24VHI\", L1Seed = 'L1_EM24VHI' , l2calo_column = 'ringer_v9_medium'),\n",
    "          \n",
    "            Chain( \"HLT_e140_lhloose_nod0_noringer\"  , L1Seed = 'L1_EM24VHI'),\n",
    "            Chain( \"HLT_e140_lhloose_nod0_ringer_v8\" , L1Seed = 'L1_EM24VHI', l2calo_column = 'ringer_v8_loose'),\n",
    "            Chain( \"HLT_e140_lhloose_nod0_ringer_v9\" , L1Seed = 'L1_EM24VHI', l2calo_column = 'ringer_v9_loose'),\n",
    "]"
   ]
  },
  {
   "cell_type": "markdown",
   "id": "d55125f6-ad91-4e6b-9568-b8efcf510c4c",
   "metadata": {},
   "source": [
    "## Read all bins:\n",
    "\n",
    "Take something like 1 hour"
   ]
  },
  {
   "cell_type": "code",
   "execution_count": 6,
   "id": "9ef17eb5-de24-47ca-91db-f3c4b058ed93",
   "metadata": {},
   "outputs": [
    {
     "name": "stderr",
     "output_type": "stream",
     "text": [
      "Reading files...: 100%|██████████| 25/25 [57:09<00:00, 137.18s/it]\n"
     ]
    }
   ],
   "source": [
    "table = load_in_loop( paths, drop_columns=drop_columns, decorators=decorators, chains=chains )"
   ]
  },
  {
   "cell_type": "code",
   "execution_count": 7,
   "id": "2b860e1b-d4c4-4f6a-be0e-e45e097480d1",
   "metadata": {},
   "outputs": [],
   "source": [
    "table.to_hdf('data.h5', key='df', mode='w')"
   ]
  },
  {
   "cell_type": "code",
   "execution_count": null,
   "id": "bdf53dba-6826-4a5b-928a-9ee9191ff078",
   "metadata": {},
   "outputs": [],
   "source": []
  }
 ],
 "metadata": {
  "kernelspec": {
   "display_name": "Python 3",
   "language": "python",
   "name": "python3"
  },
  "language_info": {
   "codemirror_mode": {
    "name": "ipython",
    "version": 3
   },
   "file_extension": ".py",
   "mimetype": "text/x-python",
   "name": "python",
   "nbconvert_exporter": "python",
   "pygments_lexer": "ipython3",
   "version": "3.6.9"
  }
 },
 "nbformat": 4,
 "nbformat_minor": 5
}
