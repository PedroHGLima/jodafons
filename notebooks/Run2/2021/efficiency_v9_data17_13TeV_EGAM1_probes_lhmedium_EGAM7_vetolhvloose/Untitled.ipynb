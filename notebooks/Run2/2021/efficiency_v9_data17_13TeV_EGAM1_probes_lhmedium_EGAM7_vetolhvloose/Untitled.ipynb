{
 "cells": [
  {
   "cell_type": "code",
   "execution_count": 5,
   "id": "87bceb96-a2d3-42c5-b9a3-2f804c945892",
   "metadata": {},
   "outputs": [
    {
     "name": "stdout",
     "output_type": "stream",
     "text": [
      "\n",
      "Applying ATLAS style settings...\n",
      "The autoreload extension is already loaded. To reload it, use:\n",
      "  %reload_ext autoreload\n"
     ]
    }
   ],
   "source": [
    "from core import Efficiency, restore_efficiencies\n",
    "import pandas as pd\n",
    "import numpy as np\n",
    "import rootplotlib as rpl\n",
    "from pprint import pprint\n",
    "\n",
    "from ROOT import kBlack,kBlue,kRed,kAzure,kGreen,kMagenta,kCyan,kOrange,kGray,kYellow,kWhite,TColor,gStyle\n",
    "\n",
    "rpl.set_atlas_style()\n",
    "rpl.suppress_root_warnings()\n",
    "%config InlineBackend.figure_format = 'retina'\n",
    "%load_ext autoreload\n",
    "%autoreload 2"
   ]
  },
  {
   "cell_type": "code",
   "execution_count": 20,
   "id": "97f117f5-25f8-49c2-bcfa-62bfa3487d30",
   "metadata": {},
   "outputs": [
    {
     "name": "stdout",
     "output_type": "stream",
     "text": [
      "[]\n"
     ]
    }
   ],
   "source": [
    "eff_sgn = restore_efficiencies('efficiencies_2017_EGAM1.root')\n",
    "#eff_bkg = restore_efficiencies('efficiencies_2017_EGAM7.root')"
   ]
  },
  {
   "cell_type": "code",
   "execution_count": 24,
   "id": "4c4501c4-5754-4717-8e43-72094659f02f",
   "metadata": {},
   "outputs": [
    {
     "name": "stdout",
     "output_type": "stream",
     "text": [
      "Name: /home/jodafons/git_repos/ringer/run/jodafons/notebooks/Run2/2021/efficiency_v9_data17_13TeV_EGAM1_probes_lhmedium_EGAM7_vetolhvloose/efficiencies_2017_EGAM7.root Title: \n",
      "{ @0x7fffbc940858, @0x7fffbc940830, @0x7fffbc940830, @0x7fffbc940830, @0x7fffbc940830, @0x7fffbc940830, @0x7fffbc940830, @0x7fffbc940830, @0x7fffbc940830, @0x7fffbc940830, @0x7fffbc940830, @0x7fffbc940830 }\n",
      "[]\n"
     ]
    }
   ],
   "source": [
    "from Gaugi import restoreStoreGate\n",
    "sg = restoreStoreGate('efficiencies_2017_EGAM7.root')"
   ]
  },
  {
   "cell_type": "code",
   "execution_count": null,
   "id": "d22aa467-8ad9-4315-aba4-a7665c76c194",
   "metadata": {},
   "outputs": [],
   "source": []
  },
  {
   "cell_type": "code",
   "execution_count": null,
   "id": "667067ca-dee5-4f58-a74c-dc0ce0622bbc",
   "metadata": {},
   "outputs": [],
   "source": []
  },
  {
   "cell_type": "code",
   "execution_count": 17,
   "id": "e6e65236-2896-4110-bdc3-1fb0e13249c5",
   "metadata": {},
   "outputs": [
    {
     "name": "stdout",
     "output_type": "stream",
     "text": [
      "None\n",
      "None\n"
     ]
    },
    {
     "name": "stderr",
     "output_type": "stream",
     "text": [
      "Exception ignored in: <bound method Efficiency.__del__ of <core.Efficiency.Efficiency object at 0x7fdb01996208>>\n",
      "Traceback (most recent call last):\n",
      "  File \"/home/jodafons/git_repos/ringer/run/jodafons/core/Efficiency.py\", line 65, in __del__\n",
      "    self.store().write()\n",
      "  File \"/home/jodafons/git_repos/ringer/run/jodafons/core/Efficiency.py\", line 72, in store\n",
      "    return self.__store\n",
      "  File \"/home/jodafons/git_repos/ringer/build/gaugi/Gaugi/Logger.py\", line 180, in __getattr__\n",
      "    raise AttributeError( 'AttributeError was raised inside an instance of Logger class while attempting to get: %s' % attr )\n",
      "AttributeError: AttributeError was raised inside an instance of Logger class while attempting to get: _Efficiency__store\n"
     ]
    },
    {
     "ename": "AttributeError",
     "evalue": "'NoneType' object has no attribute 'Clone'",
     "output_type": "error",
     "traceback": [
      "\u001b[0;31m---------------------------------------------------------------------------\u001b[0m",
      "\u001b[0;31mAttributeError\u001b[0m                            Traceback (most recent call last)",
      "\u001b[0;32m<ipython-input-17-14e8dcf14a53>\u001b[0m in \u001b[0;36m<module>\u001b[0;34m\u001b[0m\n\u001b[1;32m      2\u001b[0m \u001b[0mmarkers\u001b[0m \u001b[0;34m=\u001b[0m \u001b[0;34m[\u001b[0m\u001b[0;36m23\u001b[0m\u001b[0;34m,\u001b[0m \u001b[0;36m24\u001b[0m\u001b[0;34m]\u001b[0m\u001b[0;34m\u001b[0m\u001b[0;34m\u001b[0m\u001b[0m\n\u001b[1;32m      3\u001b[0m hists = [\n\u001b[0;32m----> 4\u001b[0;31m             \u001b[0meff_sgn\u001b[0m\u001b[0;34m.\u001b[0m\u001b[0mprofile\u001b[0m\u001b[0;34m(\u001b[0m\u001b[0;34m'HLT_e28_lhtight_nod0_noringer_ivarloose'\u001b[0m \u001b[0;34m,\u001b[0m \u001b[0;34m'HLT'\u001b[0m\u001b[0;34m,\u001b[0m \u001b[0;34m'et'\u001b[0m\u001b[0;34m)\u001b[0m\u001b[0;34m,\u001b[0m\u001b[0;34m\u001b[0m\u001b[0;34m\u001b[0m\u001b[0m\n\u001b[0m\u001b[1;32m      5\u001b[0m             \u001b[0meff_sgn\u001b[0m\u001b[0;34m.\u001b[0m\u001b[0mprofile\u001b[0m\u001b[0;34m(\u001b[0m\u001b[0;34m'HLT_e28_lhtight_nod0_ringer_v8_ivarloose'\u001b[0m\u001b[0;34m,\u001b[0m \u001b[0;34m'HLT'\u001b[0m\u001b[0;34m,\u001b[0m \u001b[0;34m'et'\u001b[0m\u001b[0;34m)\u001b[0m\u001b[0;34m,\u001b[0m\u001b[0;34m\u001b[0m\u001b[0;34m\u001b[0m\u001b[0m\n\u001b[1;32m      6\u001b[0m             \u001b[0meff_sgn\u001b[0m\u001b[0;34m.\u001b[0m\u001b[0mprofile\u001b[0m\u001b[0;34m(\u001b[0m\u001b[0;34m'HLT_e28_lhtight_nod0_ringer_v9_ivarloose'\u001b[0m\u001b[0;34m,\u001b[0m \u001b[0;34m'HLT'\u001b[0m\u001b[0;34m,\u001b[0m \u001b[0;34m'et'\u001b[0m\u001b[0;34m)\u001b[0m\u001b[0;34m,\u001b[0m\u001b[0;34m\u001b[0m\u001b[0;34m\u001b[0m\u001b[0m\n",
      "\u001b[0;32m~/git_repos/ringer/run/jodafons/core/Efficiency.py\u001b[0m in \u001b[0;36mprofile\u001b[0;34m(self, trigger, step, var)\u001b[0m\n\u001b[1;32m    199\u001b[0m     \u001b[0mdenominator\u001b[0m \u001b[0;34m=\u001b[0m \u001b[0mself\u001b[0m\u001b[0;34m.\u001b[0m\u001b[0mstore\u001b[0m\u001b[0;34m(\u001b[0m\u001b[0;34m)\u001b[0m\u001b[0;34m.\u001b[0m\u001b[0mhistogram\u001b[0m\u001b[0;34m(\u001b[0m\u001b[0mname\u001b[0m\u001b[0;34m+\u001b[0m\u001b[0;34m'/'\u001b[0m\u001b[0;34m+\u001b[0m\u001b[0mstep\u001b[0m\u001b[0;34m+\u001b[0m\u001b[0;34m'/'\u001b[0m\u001b[0;34m+\u001b[0m\u001b[0mvar\u001b[0m\u001b[0;34m)\u001b[0m\u001b[0;34m\u001b[0m\u001b[0;34m\u001b[0m\u001b[0m\n\u001b[1;32m    200\u001b[0m     \u001b[0mprint\u001b[0m\u001b[0;34m(\u001b[0m\u001b[0mdenominator\u001b[0m\u001b[0;34m)\u001b[0m\u001b[0;34m\u001b[0m\u001b[0;34m\u001b[0m\u001b[0m\n\u001b[0;32m--> 201\u001b[0;31m     \u001b[0;32mreturn\u001b[0m \u001b[0mrpl\u001b[0m\u001b[0;34m.\u001b[0m\u001b[0mhist1d\u001b[0m\u001b[0;34m.\u001b[0m\u001b[0mdivide\u001b[0m\u001b[0;34m(\u001b[0m\u001b[0mnumerator\u001b[0m\u001b[0;34m,\u001b[0m\u001b[0mdenominator\u001b[0m\u001b[0;34m)\u001b[0m\u001b[0;34m\u001b[0m\u001b[0;34m\u001b[0m\u001b[0m\n\u001b[0m\u001b[1;32m    202\u001b[0m \u001b[0;34m\u001b[0m\u001b[0m\n\u001b[1;32m    203\u001b[0m \u001b[0;34m\u001b[0m\u001b[0m\n",
      "\u001b[0;32m~/git_repos/ringer/build/rootplotlib/rootplotlib/hist1d.py\u001b[0m in \u001b[0;36mdivide\u001b[0;34m(hist_num, hist_den)\u001b[0m\n\u001b[1;32m     48\u001b[0m \u001b[0;34m\u001b[0m\u001b[0m\n\u001b[1;32m     49\u001b[0m \u001b[0;32mdef\u001b[0m \u001b[0mdivide\u001b[0m\u001b[0;34m(\u001b[0m \u001b[0mhist_num\u001b[0m\u001b[0;34m,\u001b[0m \u001b[0mhist_den\u001b[0m \u001b[0;34m)\u001b[0m\u001b[0;34m:\u001b[0m\u001b[0;34m\u001b[0m\u001b[0;34m\u001b[0m\u001b[0m\n\u001b[0;32m---> 50\u001b[0;31m     \u001b[0mhist\u001b[0m \u001b[0;34m=\u001b[0m \u001b[0mhist_num\u001b[0m\u001b[0;34m.\u001b[0m\u001b[0mClone\u001b[0m\u001b[0;34m(\u001b[0m\u001b[0;34m)\u001b[0m\u001b[0;34m\u001b[0m\u001b[0;34m\u001b[0m\u001b[0m\n\u001b[0m\u001b[1;32m     51\u001b[0m     \u001b[0mhist\u001b[0m\u001b[0;34m.\u001b[0m\u001b[0mSetName\u001b[0m\u001b[0;34m(\u001b[0m\u001b[0mhist_num\u001b[0m\u001b[0;34m.\u001b[0m\u001b[0mGetName\u001b[0m\u001b[0;34m(\u001b[0m\u001b[0;34m)\u001b[0m\u001b[0;34m+\u001b[0m\u001b[0;34m'_ratio'\u001b[0m\u001b[0;34m)\u001b[0m\u001b[0;34m\u001b[0m\u001b[0;34m\u001b[0m\u001b[0m\n\u001b[1;32m     52\u001b[0m     \u001b[0mhist\u001b[0m\u001b[0;34m.\u001b[0m\u001b[0mDivide\u001b[0m\u001b[0;34m(\u001b[0m \u001b[0mhist_num\u001b[0m\u001b[0;34m,\u001b[0m \u001b[0mhist_den\u001b[0m\u001b[0;34m,\u001b[0m\u001b[0;36m1.\u001b[0m\u001b[0;34m,\u001b[0m\u001b[0;36m1.\u001b[0m\u001b[0;34m,\u001b[0m\u001b[0;34m'B'\u001b[0m \u001b[0;34m)\u001b[0m\u001b[0;34m\u001b[0m\u001b[0;34m\u001b[0m\u001b[0m\n",
      "\u001b[0;31mAttributeError\u001b[0m: 'NoneType' object has no attribute 'Clone'"
     ]
    },
    {
     "name": "stdout",
     "output_type": "stream",
     "text": [
      "2021-11-22 15:37:34,774 | Py.StoreGate                         WARNING Object with path /HLT_e28_lhtight_nod0_noringer_ivarloose/HLT/match_et doesnt exist\n",
      "2021-11-22 15:37:34,774 | Py.StoreGate                         WARNING Object with path /HLT_e28_lhtight_nod0_noringer_ivarloose/HLT/et doesnt exist\n"
     ]
    }
   ],
   "source": [
    "colors = [kBlack,kBlue-4]\n",
    "markers = [23, 24]\n",
    "hists = [\n",
    "            eff_sgn.profile('HLT_e28_lhtight_nod0_noringer_ivarloose' , 'HLT', 'et'),\n",
    "            eff_sgn.profile('HLT_e28_lhtight_nod0_ringer_v8_ivarloose', 'HLT', 'et'),\n",
    "            eff_sgn.profile('HLT_e28_lhtight_nod0_ringer_v9_ivarloose', 'HLT', 'et'),\n",
    "        ]\n",
    "\n",
    "fig = rpl.create_canvas('my_canvas')\n",
    "rpl.plot_profiles( hists, 'Offline isolated electron E_{T} [GeV]', colors, markers )\n",
    "rpl.set_atlas_label(0.2,0.88,'Internal, pp data 2017 #sqrt{s}= 13TeV')\n",
    "add_legend( 0.49,0.35,['noringer', 'Ringer v8', 'Ringer v9'] )\n",
    "rpl.add_text( 0.42, 0.55, 'HLT_e28_lhtight_nod0_(noringer)_ivarloose', textsize=0.04)\n",
    "rpl.fix_yaxis_ranges( ignore_zeros=True, ignore_errors=True , ymaxf=1.2) \n",
    "fig.show()\n",
    "fig.savefig('HLT_et.pdf')"
   ]
  },
  {
   "cell_type": "code",
   "execution_count": 11,
   "id": "bd1f0f9b-c069-45c7-b715-e733055a0bd4",
   "metadata": {},
   "outputs": [],
   "source": [
    "sg = eff_sgn.store()"
   ]
  },
  {
   "cell_type": "code",
   "execution_count": 13,
   "id": "5c2e0bb6-d907-4ef8-b152-298d67367cfd",
   "metadata": {},
   "outputs": [
    {
     "data": {
      "text/plain": [
       "[]"
      ]
     },
     "execution_count": 13,
     "metadata": {},
     "output_type": "execute_result"
    }
   ],
   "source": [
    "sg.getDirs()"
   ]
  },
  {
   "cell_type": "code",
   "execution_count": null,
   "id": "106bed9e-d981-45c6-9b93-cf8faaf9fc9a",
   "metadata": {},
   "outputs": [],
   "source": []
  }
 ],
 "metadata": {
  "kernelspec": {
   "display_name": "Python 3",
   "language": "python",
   "name": "python3"
  },
  "language_info": {
   "codemirror_mode": {
    "name": "ipython",
    "version": 3
   },
   "file_extension": ".py",
   "mimetype": "text/x-python",
   "name": "python",
   "nbconvert_exporter": "python",
   "pygments_lexer": "ipython3",
   "version": "3.6.9"
  }
 },
 "nbformat": 4,
 "nbformat_minor": 5
}
