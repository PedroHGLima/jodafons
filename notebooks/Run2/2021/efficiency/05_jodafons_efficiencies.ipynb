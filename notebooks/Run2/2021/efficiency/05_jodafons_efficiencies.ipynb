{
 "cells": [
  {
   "cell_type": "markdown",
   "metadata": {},
   "source": [
    "# Boosted:\n",
    "\n",
    "Check efficiency plots w.r.t the reference (noringer)"
   ]
  },
  {
   "cell_type": "code",
   "execution_count": 1,
   "metadata": {},
   "outputs": [
    {
     "name": "stdout",
     "output_type": "stream",
     "text": [
      "Welcome to JupyROOT 6.16/00\n",
      "Using all sub packages with ROOT dependence\n",
      "INFO: Pandarallel will run on 40 workers.\n",
      "INFO: Pandarallel will use Memory file system to transfer data between the main process and workers.\n",
      "\n",
      "Applying ATLAS style settings...\n",
      "\n",
      "Applying ATLAS style settings...\n",
      "\n",
      "Applying ATLAS style settings...\n"
     ]
    }
   ],
   "source": [
    "from kepler.pandas.menu       import ElectronSequence as Chain\n",
    "from kepler.pandas.readers    import load, load_in_loop, load_hdf\n",
    "from core import Efficiency, restore_efficiencies\n",
    "from Gaugi import mkdir_p, progressbar\n",
    "import numpy as np\n",
    "import pandas as pd\n",
    "import collections\n",
    "import os\n",
    "import array\n",
    "import root_numpy\n",
    "import rootplotlib as rpl\n",
    "from pprint import pprint\n",
    "from copy import deepcopy\n",
    "import gc\n",
    "from ROOT import kBlack,kBlue,kRed,kAzure,kGreen,kMagenta,kCyan,kOrange,kGray,kYellow,kWhite,TColor,gStyle,TCanvas\n",
    "import ROOT\n",
    "%config InlineBackend.figure_format = 'retina'\n",
    "%load_ext autoreload\n",
    "%autoreload 2"
   ]
  },
  {
   "cell_type": "markdown",
   "metadata": {},
   "source": [
    "## 1) Read all files:"
   ]
  },
  {
   "cell_type": "code",
   "execution_count": 2,
   "metadata": {},
   "outputs": [],
   "source": [
    "output_path = 'output'\n",
    "mkdir_p(output_path)"
   ]
  },
  {
   "cell_type": "code",
   "execution_count": 3,
   "metadata": {},
   "outputs": [
    {
     "name": "stdout",
     "output_type": "stream",
     "text": [
      "OrderedDict([('L1Seed', 'L1_EM15VHI'),\n",
      "             ('L2Calo', (14000.0, 'trig_L2_cl_vloose_et12to22')),\n",
      "             ('L2', 'trig_L2_el_cut_pt15to20'),\n",
      "             ('EFCalo', 17000.0),\n",
      "             ('HLT', (17000.0, 'trig_EF_el_lhvloose'))])\n",
      "OrderedDict([('L1Seed', 'L1_EM22VHI'),\n",
      "             ('L2Calo', (25000.0, 'trig_L2_cl_tight_et22toInf')),\n",
      "             ('L2', 'trig_L2_el_cut_pt20to50'),\n",
      "             ('EFCalo', 28000.0),\n",
      "             ('HLT', (28000.0, 'trig_EF_el_lhtight_ivarloose'))])\n",
      "OrderedDict([('L1Seed', 'L1_EM24VHI'),\n",
      "             ('L2Calo', (57000.0, 'trig_L2_cl_medium_et22toInf')),\n",
      "             ('L2', 'trig_L2_el_cut_pt50toInf'),\n",
      "             ('EFCalo', 60000.0),\n",
      "             ('HLT', (60000.0, 'trig_EF_el_lhmedium'))])\n",
      "OrderedDict([('L1Seed', 'L1_EM24VHI'),\n",
      "             ('L2Calo', (137000.0, 'trig_L2_cl_loose_et22toInf')),\n",
      "             ('L2', 'trig_L2_el_cut_pt50toInf'),\n",
      "             ('EFCalo', 140000.0),\n",
      "             ('HLT', (140000.0, 'trig_EF_el_lhloose'))])\n",
      "OrderedDict([('L1Seed', 'L1_EM15VHI'),\n",
      "             ('L2Calo', (14000.0, 'ringer_v8_vloose')),\n",
      "             ('L2', 'trig_L2_el_cut_pt15to20'),\n",
      "             ('EFCalo', 17000.0),\n",
      "             ('HLT', (17000.0, 'trig_EF_el_lhvloose'))])\n",
      "OrderedDict([('L1Seed', 'L1_EM22VHI'),\n",
      "             ('L2Calo', (25000.0, 'ringer_v8_tight')),\n",
      "             ('L2', 'trig_L2_el_cut_pt20to50'),\n",
      "             ('EFCalo', 28000.0),\n",
      "             ('HLT', (28000.0, 'trig_EF_el_lhtight_ivarloose'))])\n",
      "OrderedDict([('L1Seed', 'L1_EM24VHI'),\n",
      "             ('L2Calo', (57000.0, 'ringer_v8_medium')),\n",
      "             ('L2', 'trig_L2_el_cut_pt50toInf'),\n",
      "             ('EFCalo', 60000.0),\n",
      "             ('HLT', (60000.0, 'trig_EF_el_lhmedium'))])\n",
      "OrderedDict([('L1Seed', 'L1_EM24VHI'),\n",
      "             ('L2Calo', (137000.0, 'ringer_v8_loose')),\n",
      "             ('L2', 'trig_L2_el_cut_pt50toInf'),\n",
      "             ('EFCalo', 140000.0),\n",
      "             ('HLT', (140000.0, 'trig_EF_el_lhloose'))])\n",
      "OrderedDict([('L1Seed', 'L1_EM15VHI'),\n",
      "             ('L2Calo', (14000.0, 'ringer_v9_vloose')),\n",
      "             ('L2', 'trig_L2_el_cut_pt15to20'),\n",
      "             ('EFCalo', 17000.0),\n",
      "             ('HLT', (17000.0, 'trig_EF_el_lhvloose'))])\n",
      "OrderedDict([('L1Seed', 'L1_EM22VHI'),\n",
      "             ('L2Calo', (25000.0, 'ringer_v9_tight')),\n",
      "             ('L2', 'trig_L2_el_cut_pt20to50'),\n",
      "             ('EFCalo', 28000.0),\n",
      "             ('HLT', (28000.0, 'trig_EF_el_lhtight_ivarloose'))])\n",
      "OrderedDict([('L1Seed', 'L1_EM24VHI'),\n",
      "             ('L2Calo', (57000.0, 'ringer_v9_medium')),\n",
      "             ('L2', 'trig_L2_el_cut_pt50toInf'),\n",
      "             ('EFCalo', 60000.0),\n",
      "             ('HLT', (60000.0, 'trig_EF_el_lhmedium'))])\n",
      "OrderedDict([('L1Seed', 'L1_EM24VHI'),\n",
      "             ('L2Calo', (137000.0, 'ringer_v9_loose')),\n",
      "             ('L2', 'trig_L2_el_cut_pt50toInf'),\n",
      "             ('EFCalo', 140000.0),\n",
      "             ('HLT', (140000.0, 'trig_EF_el_lhloose'))])\n",
      "OrderedDict([('L1Seed', 'L1_EM15VHI'),\n",
      "             ('L2Calo', (14000.0, 'ringer_v10_vloose')),\n",
      "             ('L2', 'trig_L2_el_cut_pt15to20'),\n",
      "             ('EFCalo', 17000.0),\n",
      "             ('HLT', (17000.0, 'trig_EF_el_lhvloose'))])\n",
      "OrderedDict([('L1Seed', 'L1_EM22VHI'),\n",
      "             ('L2Calo', (25000.0, 'ringer_v10_tight')),\n",
      "             ('L2', 'trig_L2_el_cut_pt20to50'),\n",
      "             ('EFCalo', 28000.0),\n",
      "             ('HLT', (28000.0, 'trig_EF_el_lhtight_ivarloose'))])\n",
      "OrderedDict([('L1Seed', 'L1_EM24VHI'),\n",
      "             ('L2Calo', (57000.0, 'ringer_v10_medium')),\n",
      "             ('L2', 'trig_L2_el_cut_pt50toInf'),\n",
      "             ('EFCalo', 60000.0),\n",
      "             ('HLT', (60000.0, 'trig_EF_el_lhmedium'))])\n",
      "OrderedDict([('L1Seed', 'L1_EM24VHI'),\n",
      "             ('L2Calo', (137000.0, 'ringer_v10_loose')),\n",
      "             ('L2', 'trig_L2_el_cut_pt50toInf'),\n",
      "             ('EFCalo', 140000.0),\n",
      "             ('HLT', (140000.0, 'trig_EF_el_lhloose'))])\n",
      "OrderedDict([('L1Seed', 'L1_EM15VHI'),\n",
      "             ('L2Calo', (14000.0, 'ringer_v12_vloose')),\n",
      "             ('L2', 'trig_L2_el_cut_pt15to20'),\n",
      "             ('EFCalo', 17000.0),\n",
      "             ('HLT', (17000.0, 'trig_EF_el_lhvloose'))])\n",
      "OrderedDict([('L1Seed', 'L1_EM22VHI'),\n",
      "             ('L2Calo', (25000.0, 'ringer_v12_tight')),\n",
      "             ('L2', 'trig_L2_el_cut_pt20to50'),\n",
      "             ('EFCalo', 28000.0),\n",
      "             ('HLT', (28000.0, 'trig_EF_el_lhtight_ivarloose'))])\n",
      "OrderedDict([('L1Seed', 'L1_EM24VHI'),\n",
      "             ('L2Calo', (57000.0, 'ringer_v12_medium')),\n",
      "             ('L2', 'trig_L2_el_cut_pt50toInf'),\n",
      "             ('EFCalo', 60000.0),\n",
      "             ('HLT', (60000.0, 'trig_EF_el_lhmedium'))])\n",
      "OrderedDict([('L1Seed', 'L1_EM24VHI'),\n",
      "             ('L2Calo', (137000.0, 'ringer_v12_loose')),\n",
      "             ('L2', 'trig_L2_el_cut_pt50toInf'),\n",
      "             ('EFCalo', 140000.0),\n",
      "             ('HLT', (140000.0, 'trig_EF_el_lhloose'))])\n",
      "OrderedDict([('L1Seed', 'L1_EM15VHI'),\n",
      "             ('L2Calo', (14000.0, 'ringer_v13_vloose')),\n",
      "             ('L2', 'trig_L2_el_cut_pt15to20'),\n",
      "             ('EFCalo', 17000.0),\n",
      "             ('HLT', (17000.0, 'trig_EF_el_lhvloose'))])\n",
      "OrderedDict([('L1Seed', 'L1_EM22VHI'),\n",
      "             ('L2Calo', (25000.0, 'ringer_v13_tight')),\n",
      "             ('L2', 'trig_L2_el_cut_pt20to50'),\n",
      "             ('EFCalo', 28000.0),\n",
      "             ('HLT', (28000.0, 'trig_EF_el_lhtight_ivarloose'))])\n",
      "OrderedDict([('L1Seed', 'L1_EM24VHI'),\n",
      "             ('L2Calo', (57000.0, 'ringer_v13_medium')),\n",
      "             ('L2', 'trig_L2_el_cut_pt50toInf'),\n",
      "             ('EFCalo', 60000.0),\n",
      "             ('HLT', (60000.0, 'trig_EF_el_lhmedium'))])\n",
      "OrderedDict([('L1Seed', 'L1_EM24VHI'),\n",
      "             ('L2Calo', (137000.0, 'ringer_v13_loose')),\n",
      "             ('L2', 'trig_L2_el_cut_pt50toInf'),\n",
      "             ('EFCalo', 140000.0),\n",
      "             ('HLT', (140000.0, 'trig_EF_el_lhloose'))])\n",
      "OrderedDict([('L1Seed', 'L1_EM15VHI'),\n",
      "             ('L2Calo', (14000.0, 'ringer_v14_vloose')),\n",
      "             ('L2', 'trig_L2_el_cut_pt15to20'),\n",
      "             ('EFCalo', 17000.0),\n",
      "             ('HLT', (17000.0, 'trig_EF_el_lhvloose'))])\n",
      "OrderedDict([('L1Seed', 'L1_EM22VHI'),\n",
      "             ('L2Calo', (25000.0, 'ringer_v14_tight')),\n",
      "             ('L2', 'trig_L2_el_cut_pt20to50'),\n",
      "             ('EFCalo', 28000.0),\n",
      "             ('HLT', (28000.0, 'trig_EF_el_lhtight_ivarloose'))])\n",
      "OrderedDict([('L1Seed', 'L1_EM24VHI'),\n",
      "             ('L2Calo', (57000.0, 'ringer_v14_medium')),\n",
      "             ('L2', 'trig_L2_el_cut_pt50toInf'),\n",
      "             ('EFCalo', 60000.0),\n",
      "             ('HLT', (60000.0, 'trig_EF_el_lhmedium'))])\n",
      "OrderedDict([('L1Seed', 'L1_EM24VHI'),\n",
      "             ('L2Calo', (137000.0, 'ringer_v14_loose')),\n",
      "             ('L2', 'trig_L2_el_cut_pt50toInf'),\n",
      "             ('EFCalo', 140000.0),\n",
      "             ('HLT', (140000.0, 'trig_EF_el_lhloose'))])\n",
      "OrderedDict([('L1Seed', 'L1_EM15VHI'),\n",
      "             ('L2Calo', (14000.0, 'ringer_v16_vloose')),\n",
      "             ('L2', 'trig_L2_el_cut_pt15to20'),\n",
      "             ('EFCalo', 17000.0),\n",
      "             ('HLT', (17000.0, 'trig_EF_el_lhvloose'))])\n",
      "OrderedDict([('L1Seed', 'L1_EM22VHI'),\n",
      "             ('L2Calo', (25000.0, 'ringer_v16_tight')),\n",
      "             ('L2', 'trig_L2_el_cut_pt20to50'),\n",
      "             ('EFCalo', 28000.0),\n",
      "             ('HLT', (28000.0, 'trig_EF_el_lhtight_ivarloose'))])\n",
      "OrderedDict([('L1Seed', 'L1_EM24VHI'),\n",
      "             ('L2Calo', (57000.0, 'ringer_v16_medium')),\n",
      "             ('L2', 'trig_L2_el_cut_pt50toInf'),\n",
      "             ('EFCalo', 60000.0),\n",
      "             ('HLT', (60000.0, 'trig_EF_el_lhmedium'))])\n",
      "OrderedDict([('L1Seed', 'L1_EM24VHI'),\n",
      "             ('L2Calo', (137000.0, 'ringer_v16_loose')),\n",
      "             ('L2', 'trig_L2_el_cut_pt50toInf'),\n",
      "             ('EFCalo', 140000.0),\n",
      "             ('HLT', (140000.0, 'trig_EF_el_lhloose'))])\n"
     ]
    }
   ],
   "source": [
    "# create my chain\n",
    "chains = [\n",
    "            Chain( \"HLT_e17_lhvloose_nod0_noringer_L1EM15VHI\", L1Seed = 'L1_EM15VHI' ),\n",
    "            Chain( \"HLT_e28_lhtight_nod0_noringer_ivarloose\", L1Seed = 'L1_EM22VHI' ),\n",
    "            Chain( \"HLT_e60_lhmedium_nod0_noringer_L1EM24VHI\", L1Seed = 'L1_EM24VHI' ),\n",
    "            Chain( \"HLT_e140_lhloose_nod0_noringer\" , L1Seed = 'L1_EM24VHI' ),\n",
    "    \n",
    "            Chain( \"HLT_e17_lhvloose_nod0_ringer_v8_L1EM15VHI\", L1Seed = 'L1_EM15VHI' , l2calo_column = 'ringer_v8_vloose'),\n",
    "            Chain( \"HLT_e28_lhtight_nod0_ringer_v8_ivarloose\", L1Seed = 'L1_EM22VHI' , l2calo_column = 'ringer_v8_tight' ),\n",
    "            Chain( \"HLT_e60_lhmedium_nod0_ringer_v8_L1EM24VHI\", L1Seed = 'L1_EM24VHI' , l2calo_column = 'ringer_v8_medium'),\n",
    "            Chain( \"HLT_e140_lhloose_nod0_ringer_v8\" , L1Seed = 'L1_EM24VHI', l2calo_column = 'ringer_v8_loose'),\n",
    "\n",
    "            Chain( \"HLT_e17_lhvloose_nod0_ringer_v9_L1EM15VHI\", L1Seed = 'L1_EM15VHI' , l2calo_column = 'ringer_v9_vloose'),\n",
    "            Chain( \"HLT_e28_lhtight_nod0_ringer_v9_ivarloose\", L1Seed = 'L1_EM22VHI' , l2calo_column = 'ringer_v9_tight' ),\n",
    "            Chain( \"HLT_e60_lhmedium_nod0_ringer_v9_L1EM24VHI\", L1Seed = 'L1_EM24VHI' , l2calo_column = 'ringer_v9_medium'),\n",
    "            Chain( \"HLT_e140_lhloose_nod0_ringer_v9\" , L1Seed = 'L1_EM24VHI', l2calo_column = 'ringer_v9_loose'),\n",
    "            \n",
    "            Chain( \"HLT_e17_lhvloose_nod0_ringer_v10_L1EM15VHI\", L1Seed = 'L1_EM15VHI' , l2calo_column = 'ringer_v10_vloose'),\n",
    "            Chain( \"HLT_e28_lhtight_nod0_ringer_v10_ivarloose\", L1Seed = 'L1_EM22VHI' , l2calo_column = 'ringer_v10_tight' ),\n",
    "            Chain( \"HLT_e60_lhmedium_nod0_ringer_v10_L1EM24VHI\", L1Seed = 'L1_EM24VHI' , l2calo_column = 'ringer_v10_medium'),\n",
    "            Chain( \"HLT_e140_lhloose_nod0_ringer_v10\" , L1Seed = 'L1_EM24VHI', l2calo_column = 'ringer_v10_loose'),\n",
    "    \n",
    "            Chain( \"HLT_e17_lhvloose_nod0_ringer_v12_L1EM15VHI\", L1Seed = 'L1_EM15VHI' , l2calo_column = 'ringer_v12_vloose'),\n",
    "            Chain( \"HLT_e28_lhtight_nod0_ringer_v12_ivarloose\", L1Seed = 'L1_EM22VHI' , l2calo_column = 'ringer_v12_tight' ),\n",
    "            Chain( \"HLT_e60_lhmedium_nod0_ringer_v12_L1EM24VHI\", L1Seed = 'L1_EM24VHI' , l2calo_column = 'ringer_v12_medium'),\n",
    "            Chain( \"HLT_e140_lhloose_nod0_ringer_v12\" , L1Seed = 'L1_EM24VHI', l2calo_column = 'ringer_v12_loose'),\n",
    "    \n",
    "            Chain( \"HLT_e17_lhvloose_nod0_ringer_v13_L1EM15VHI\", L1Seed = 'L1_EM15VHI' , l2calo_column = 'ringer_v13_vloose'),\n",
    "            Chain( \"HLT_e28_lhtight_nod0_ringer_v13_ivarloose\", L1Seed = 'L1_EM22VHI' , l2calo_column = 'ringer_v13_tight' ),\n",
    "            Chain( \"HLT_e60_lhmedium_nod0_ringer_v13_L1EM24VHI\", L1Seed = 'L1_EM24VHI' , l2calo_column = 'ringer_v13_medium'),\n",
    "            Chain( \"HLT_e140_lhloose_nod0_ringer_v13\" , L1Seed = 'L1_EM24VHI', l2calo_column = 'ringer_v13_loose'),\n",
    "    \n",
    "            Chain( \"HLT_e17_lhvloose_nod0_ringer_v14_L1EM15VHI\", L1Seed = 'L1_EM15VHI' , l2calo_column = 'ringer_v14_vloose'),\n",
    "            Chain( \"HLT_e28_lhtight_nod0_ringer_v14_ivarloose\", L1Seed = 'L1_EM22VHI' , l2calo_column = 'ringer_v14_tight' ),\n",
    "            Chain( \"HLT_e60_lhmedium_nod0_ringer_v14_L1EM24VHI\", L1Seed = 'L1_EM24VHI' , l2calo_column = 'ringer_v14_medium'),\n",
    "            Chain( \"HLT_e140_lhloose_nod0_ringer_v14\" , L1Seed = 'L1_EM24VHI', l2calo_column = 'ringer_v14_loose'),\n",
    "    \n",
    "            Chain( \"HLT_e17_lhvloose_nod0_ringer_v16_L1EM15VHI\", L1Seed = 'L1_EM15VHI' , l2calo_column = 'ringer_v16_vloose'),\n",
    "            Chain( \"HLT_e28_lhtight_nod0_ringer_v16_ivarloose\", L1Seed = 'L1_EM22VHI' , l2calo_column = 'ringer_v16_tight' ),\n",
    "            Chain( \"HLT_e60_lhmedium_nod0_ringer_v16_L1EM24VHI\", L1Seed = 'L1_EM24VHI' , l2calo_column = 'ringer_v16_medium'),\n",
    "            Chain( \"HLT_e140_lhloose_nod0_ringer_v16\" , L1Seed = 'L1_EM24VHI', l2calo_column = 'ringer_v16_loose'),\n",
    "    \n",
    "]\n",
    "\n",
    "def emulate( df ):\n",
    "    for chain in progressbar(chains, prefix='Emulate...'):\n",
    "        chain.apply(df)"
   ]
  },
  {
   "cell_type": "code",
   "execution_count": 4,
   "metadata": {},
   "outputs": [],
   "source": [
    "dpath   = '../data/output/mc16_13TeV.302236_309995_341330.sgn.boosted_probes.WZ_llqq_plus_radion_ZZ_llqq_plus_ggH3000.merge.dataframe.h5'"
   ]
  },
  {
   "cell_type": "code",
   "execution_count": 5,
   "metadata": {},
   "outputs": [],
   "source": [
    "data_df = pd.concat( (load_hdf(dpath), \n",
    "                      load_hdf('../v8/output/emulation/mc16_table_v8.h5'),\n",
    "                      load_hdf('../v9/output/emulation/mc16_table_v9.h5'),\n",
    "                      load_hdf('../v10/output/emulation/mc16_table_v10.h5'),\n",
    "                      load_hdf('../v12/output/emulation/mc16_table_v12.h5'),\n",
    "                      load_hdf('../v13/output/emulation/mc16_table_v13.h5'),\n",
    "                      load_hdf('../v14/output/emulation/mc16_table_v14.h5'),\n",
    "                      load_hdf('../v16/output/emulation/mc16_table_v16.h5'),\n",
    "\n",
    "                     ), axis=1)"
   ]
  },
  {
   "cell_type": "code",
   "execution_count": 6,
   "metadata": {},
   "outputs": [
    {
     "name": "stderr",
     "output_type": "stream",
     "text": [
      "Emulate...: 100%|██████████| 32/32 [00:00<00:00, 35.56it/s]\n"
     ]
    }
   ],
   "source": [
    "emulate(data_df)"
   ]
  },
  {
   "cell_type": "code",
   "execution_count": 7,
   "metadata": {},
   "outputs": [
    {
     "data": {
      "text/plain": [
       "(78914, 289)"
      ]
     },
     "execution_count": 7,
     "metadata": {},
     "output_type": "execute_result"
    }
   ],
   "source": [
    "data_df.shape"
   ]
  },
  {
   "cell_type": "markdown",
   "metadata": {},
   "source": [
    "## Make plots:"
   ]
  },
  {
   "cell_type": "code",
   "execution_count": 64,
   "metadata": {},
   "outputs": [],
   "source": [
    "deltaRbins = [0, 0.02, 0.04, 0.06, 0.08, 0.1, 0.12, 0.14, 0.16,\n",
    "              0.18, 0.2, 0.22, 0.24, 0.26, 0.28, 0.3, 0.35, 0.40, 0.6]"
   ]
  },
  {
   "cell_type": "code",
   "execution_count": 65,
   "metadata": {},
   "outputs": [],
   "source": [
    "def hist1d( name, values, bins, density=False ):\n",
    "    H, _ = np.histogram(values, bins=bins, density=density )\n",
    "    hist = ROOT.TH1F( name, '', len(bins)-1, array.array('d',bins))\n",
    "    root_numpy.array2hist(H, hist)\n",
    "    return hist\n",
    "\n",
    "def get_profile( df, trigger, bins, target, etcut, pidname=None ):\n",
    "    if pidname:\n",
    "        num = df.loc[(df[trigger]==True) & (df['el_et']/1000 >= etcut) & (df['target']==target) &\n",
    "                   (df[pidname]==True)]['el_TaP_deltaR'].values\n",
    "        den = df.loc[(df[pidname]==True) & (df['target']==target) & \n",
    "                     (df['el_et']/1000 >= etcut)][ 'el_TaP_deltaR'].values\n",
    "    else:\n",
    "        num = df.loc[(df[trigger]==True) & (df['el_et']/1000 >= etcut) & (df['target']==target)\n",
    "                     ][ 'el_TaP_deltaR'].values\n",
    "        den = df.loc[(df['target']==target) & (df['el_et']/1000 >= etcut)][ 'el_TaP_deltaR'].values  \n",
    "        \n",
    "    h_num = hist1d('et_num', num, bins )\n",
    "    h_den = hist1d('et_den', den, bins )\n",
    "    h_eff = rpl.hist1d.divide(h_num,h_den)  \n",
    "    return h_eff\n",
    "\n",
    "def add_legend(x, y, legends):\n",
    "    rpl.add_legend( legends,x,y,x+0.98,y+0.20,textsize=18, option='p' )"
   ]
  },
  {
   "cell_type": "code",
   "execution_count": null,
   "metadata": {},
   "outputs": [],
   "source": []
  },
  {
   "cell_type": "code",
   "execution_count": 93,
   "metadata": {},
   "outputs": [],
   "source": [
    "hists = [\n",
    "        get_profile(data_df, 'L2Calo_e28_lhtight_nod0_noringer_ivarloose',deltaRbins, 1, 23, 'el_lhtight'),\n",
    "        get_profile(data_df, 'L2Calo_e28_lhtight_nod0_ringer_v8_ivarloose',deltaRbins, 1, 23, 'el_lhtight'),\n",
    "            get_profile(data_df, 'L2Calo_e28_lhtight_nod0_ringer_v12_ivarloose',deltaRbins, 1, 23, 'el_lhtight'),\n",
    "\n",
    "\n",
    "        ]"
   ]
  },
  {
   "cell_type": "code",
   "execution_count": 94,
   "metadata": {},
   "outputs": [
    {
     "data": {
      "image/png": "[encoded data removed]",
      "text/plain": [
       "<IPython.core.display.Image object>"
      ]
     },
     "metadata": {},
     "output_type": "display_data"
    }
   ],
   "source": [
    "colors = [kBlack,kBlue-4, kBlue-9]\n",
    "markers = [23, 24, 8]\n",
    "level = 'L2Calo'\n",
    "fig = rpl.create_canvas('my_canvas')\n",
    "rpl.plot_profiles( hists, 'Offline dR(ee)', colors, markers )\n",
    "#rpl.set_atlas_label(0.2,0.88,'Internal, mc16 #sqrt{s}= 13TeV')\n",
    "add_legend( 0.51,0.25,['without Ringer','with Ringer (v8)', 'v14'] )\n",
    "#rpl.add_text( 0.42, 0.45, 'HLT_e28_lhtight_nod0_(noringer)_ivarloose', textsize=0.04)\n",
    "rpl.fix_yaxis_ranges( ignore_zeros=True, ignore_errors=True , ymaxf=1.1) \n",
    "fig.show()\n",
    "#fig.savefig(output_path+'/eff_emu_EGAM1_e28_ringer_v12_and_noringer_2017_HLT_et.pdf')"
   ]
  },
  {
   "cell_type": "code",
   "execution_count": 105,
   "metadata": {},
   "outputs": [
    {
     "data": {
      "text/plain": [
       "<AxesSubplot:>"
      ]
     },
     "execution_count": 105,
     "metadata": {},
     "output_type": "execute_result"
    },
    {
     "data": {
      "image/png": "[encoded data removed]",
      "text/plain": [
       "<Figure size 432x288 with 1 Axes>"
      ]
     },
     "metadata": {
      "image/png": {
       "height": 248,
       "width": 381
      },
      "needs_background": "light"
     },
     "output_type": "display_data"
    }
   ],
   "source": [
    "(data_df.loc[(data_df['HLT_e28_lhtight_nod0_ringer_v16_ivarloose']==True)&(data_df['el_lhtight']==True)]['el_et']/1000).hist(bins=100)"
   ]
  },
  {
   "cell_type": "code",
   "execution_count": 88,
   "metadata": {},
   "outputs": [],
   "source": [
    "et_bins = np.arange(100, 3000, step=10)"
   ]
  },
  {
   "cell_type": "code",
   "execution_count": null,
   "metadata": {},
   "outputs": [],
   "source": [
    "h_et = hist1d( "
   ]
  },
  {
   "cell_type": "code",
   "execution_count": null,
   "metadata": {},
   "outputs": [],
   "source": []
  },
  {
   "cell_type": "code",
   "execution_count": null,
   "metadata": {},
   "outputs": [],
   "source": []
  },
  {
   "cell_type": "code",
   "execution_count": null,
   "metadata": {},
   "outputs": [],
   "source": []
  },
  {
   "cell_type": "code",
   "execution_count": 11,
   "metadata": {},
   "outputs": [],
   "source": [
    "def add_legend(x, y, legends):\n",
    "    rpl.add_legend( legends,x,y,x+0.98,y+0.20,textsize=18, option='p' )"
   ]
  },
  {
   "cell_type": "code",
   "execution_count": 76,
   "metadata": {},
   "outputs": [
    {
     "data": {
      "image/png": "[encoded data removed]",
      "text/plain": [
       "<IPython.core.display.Image object>"
      ]
     },
     "metadata": {},
     "output_type": "display_data"
    }
   ],
   "source": [
    "colors = [kBlack,kBlue-4, kBlue-9]\n",
    "markers = [23, 24, 8]\n",
    "level = 'L2Calo'\n",
    "hists = [\n",
    "            eff_mc16_boosted['v8'].profile('HLT_e28_lhtight_nod0_ringer_v8_ivarloose', level,'deltaR'),\n",
    "            eff_mc16_boosted['v12'].profile('HLT_e28_lhtight_nod0_ringer_v12_ivarloose', level,'deltaR'),\n",
    "            eff_mc16_boosted['noringer'].profile('HLT_e28_lhtight_nod0_noringer_ivarloose', level,'deltaR'),\n",
    "\n",
    "\n",
    "            #eff_mc16_boosted['noringer'].profile('HLT_e28_lhtight_nod0_noringer_ivarloose', level,'deltaR'),\n",
    "\n",
    "\n",
    "        ]\n",
    "\n",
    "fig = rpl.create_canvas('my_canvas')\n",
    "rpl.plot_profiles( hists, 'Offline #Delta_{R}(Probe and Tag electrons)', colors, markers )\n",
    "rpl.set_atlas_label(0.2,0.88,'Internal, mc16 #sqrt{s}= 13TeV')\n",
    "add_legend( 0.51,0.25,['with Ringer (v8)', 'with Ringer (v12)', 'without Ringer'] )\n",
    "rpl.add_text( 0.42, 0.45, 'HLT_e28_lhtight_nod0_(noringer)_ivarloose', textsize=0.04)\n",
    "rpl.fix_yaxis_ranges( ignore_zeros=True, ignore_errors=True , ymaxf=1.2) \n",
    "fig.show()\n",
    "fig.savefig(output_path+'/eff_emu_EGAM1_e28_ringer_v12_and_noringer_2017_HLT_et.pdf')"
   ]
  },
  {
   "cell_type": "code",
   "execution_count": null,
   "metadata": {},
   "outputs": [],
   "source": []
  },
  {
   "cell_type": "code",
   "execution_count": null,
   "metadata": {},
   "outputs": [],
   "source": []
  },
  {
   "cell_type": "code",
   "execution_count": null,
   "metadata": {},
   "outputs": [],
   "source": []
  }
 ],
 "metadata": {
  "kernelspec": {
   "display_name": "Python 3",
   "language": "python",
   "name": "python3"
  },
  "language_info": {
   "codemirror_mode": {
    "name": "ipython",
    "version": 3
   },
   "file_extension": ".py",
   "mimetype": "text/x-python",
   "name": "python",
   "nbconvert_exporter": "python",
   "pygments_lexer": "ipython3",
   "version": "3.6.9"
  }
 },
 "nbformat": 4,
 "nbformat_minor": 4
}
